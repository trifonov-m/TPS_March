{
 "cells": [
  {
   "cell_type": "markdown",
   "metadata": {},
   "source": [
    "# My First self-project on Kaggle"
   ]
  },
  {
   "cell_type": "markdown",
   "metadata": {},
   "source": [
    "# Tabular Playground Series - Mar 2021"
   ]
  },
  {
   "cell_type": "markdown",
   "metadata": {},
   "source": [
    "**Import**"
   ]
  },
  {
   "cell_type": "code",
   "execution_count": 1,
   "metadata": {},
   "outputs": [],
   "source": [
    "import numpy as np\n",
    "import pandas as pd\n",
    "import matplotlib.pyplot as plt\n",
    "from sklearn.preprocessing import LabelEncoder\n",
    "from sklearn.model_selection import train_test_split\n",
    "from sklearn.metrics import roc_auc_score\n",
    "from sklearn.ensemble import RandomForestClassifier\n",
    "\n",
    "input_path = 'input/'"
   ]
  },
  {
   "cell_type": "code",
   "execution_count": 2,
   "metadata": {},
   "outputs": [
    {
     "data": {
      "text/html": [
       "<div>\n",
       "<style scoped>\n",
       "    .dataframe tbody tr th:only-of-type {\n",
       "        vertical-align: middle;\n",
       "    }\n",
       "\n",
       "    .dataframe tbody tr th {\n",
       "        vertical-align: top;\n",
       "    }\n",
       "\n",
       "    .dataframe thead th {\n",
       "        text-align: right;\n",
       "    }\n",
       "</style>\n",
       "<table border=\"1\" class=\"dataframe\">\n",
       "  <thead>\n",
       "    <tr style=\"text-align: right;\">\n",
       "      <th></th>\n",
       "      <th>cat0</th>\n",
       "      <th>cat1</th>\n",
       "      <th>cat2</th>\n",
       "      <th>cat3</th>\n",
       "      <th>cat4</th>\n",
       "      <th>cat5</th>\n",
       "      <th>cat6</th>\n",
       "      <th>cat7</th>\n",
       "      <th>cat8</th>\n",
       "      <th>cat9</th>\n",
       "      <th>...</th>\n",
       "      <th>cont2</th>\n",
       "      <th>cont3</th>\n",
       "      <th>cont4</th>\n",
       "      <th>cont5</th>\n",
       "      <th>cont6</th>\n",
       "      <th>cont7</th>\n",
       "      <th>cont8</th>\n",
       "      <th>cont9</th>\n",
       "      <th>cont10</th>\n",
       "      <th>target</th>\n",
       "    </tr>\n",
       "    <tr>\n",
       "      <th>id</th>\n",
       "      <th></th>\n",
       "      <th></th>\n",
       "      <th></th>\n",
       "      <th></th>\n",
       "      <th></th>\n",
       "      <th></th>\n",
       "      <th></th>\n",
       "      <th></th>\n",
       "      <th></th>\n",
       "      <th></th>\n",
       "      <th></th>\n",
       "      <th></th>\n",
       "      <th></th>\n",
       "      <th></th>\n",
       "      <th></th>\n",
       "      <th></th>\n",
       "      <th></th>\n",
       "      <th></th>\n",
       "      <th></th>\n",
       "      <th></th>\n",
       "      <th></th>\n",
       "    </tr>\n",
       "  </thead>\n",
       "  <tbody>\n",
       "    <tr>\n",
       "      <th>0</th>\n",
       "      <td>A</td>\n",
       "      <td>I</td>\n",
       "      <td>A</td>\n",
       "      <td>B</td>\n",
       "      <td>B</td>\n",
       "      <td>BI</td>\n",
       "      <td>A</td>\n",
       "      <td>S</td>\n",
       "      <td>Q</td>\n",
       "      <td>A</td>\n",
       "      <td>...</td>\n",
       "      <td>0.759439</td>\n",
       "      <td>0.795549</td>\n",
       "      <td>0.681917</td>\n",
       "      <td>0.621672</td>\n",
       "      <td>0.592184</td>\n",
       "      <td>0.791921</td>\n",
       "      <td>0.815254</td>\n",
       "      <td>0.965006</td>\n",
       "      <td>0.665915</td>\n",
       "      <td>0</td>\n",
       "    </tr>\n",
       "    <tr>\n",
       "      <th>1</th>\n",
       "      <td>A</td>\n",
       "      <td>I</td>\n",
       "      <td>A</td>\n",
       "      <td>A</td>\n",
       "      <td>E</td>\n",
       "      <td>BI</td>\n",
       "      <td>K</td>\n",
       "      <td>W</td>\n",
       "      <td>AD</td>\n",
       "      <td>F</td>\n",
       "      <td>...</td>\n",
       "      <td>0.386385</td>\n",
       "      <td>0.541366</td>\n",
       "      <td>0.388982</td>\n",
       "      <td>0.357778</td>\n",
       "      <td>0.600044</td>\n",
       "      <td>0.408701</td>\n",
       "      <td>0.399353</td>\n",
       "      <td>0.927406</td>\n",
       "      <td>0.493729</td>\n",
       "      <td>0</td>\n",
       "    </tr>\n",
       "    <tr>\n",
       "      <th>2</th>\n",
       "      <td>A</td>\n",
       "      <td>K</td>\n",
       "      <td>A</td>\n",
       "      <td>A</td>\n",
       "      <td>E</td>\n",
       "      <td>BI</td>\n",
       "      <td>A</td>\n",
       "      <td>E</td>\n",
       "      <td>BM</td>\n",
       "      <td>L</td>\n",
       "      <td>...</td>\n",
       "      <td>0.343255</td>\n",
       "      <td>0.616352</td>\n",
       "      <td>0.793687</td>\n",
       "      <td>0.552877</td>\n",
       "      <td>0.352113</td>\n",
       "      <td>0.388835</td>\n",
       "      <td>0.412303</td>\n",
       "      <td>0.292696</td>\n",
       "      <td>0.549452</td>\n",
       "      <td>0</td>\n",
       "    </tr>\n",
       "    <tr>\n",
       "      <th>3</th>\n",
       "      <td>A</td>\n",
       "      <td>K</td>\n",
       "      <td>A</td>\n",
       "      <td>C</td>\n",
       "      <td>E</td>\n",
       "      <td>BI</td>\n",
       "      <td>A</td>\n",
       "      <td>Y</td>\n",
       "      <td>AD</td>\n",
       "      <td>F</td>\n",
       "      <td>...</td>\n",
       "      <td>0.831147</td>\n",
       "      <td>0.807807</td>\n",
       "      <td>0.800032</td>\n",
       "      <td>0.619147</td>\n",
       "      <td>0.221789</td>\n",
       "      <td>0.897617</td>\n",
       "      <td>0.633669</td>\n",
       "      <td>0.760318</td>\n",
       "      <td>0.934242</td>\n",
       "      <td>0</td>\n",
       "    </tr>\n",
       "    <tr>\n",
       "      <th>4</th>\n",
       "      <td>A</td>\n",
       "      <td>I</td>\n",
       "      <td>G</td>\n",
       "      <td>B</td>\n",
       "      <td>E</td>\n",
       "      <td>BI</td>\n",
       "      <td>C</td>\n",
       "      <td>G</td>\n",
       "      <td>Q</td>\n",
       "      <td>A</td>\n",
       "      <td>...</td>\n",
       "      <td>0.338818</td>\n",
       "      <td>0.277308</td>\n",
       "      <td>0.610578</td>\n",
       "      <td>0.128291</td>\n",
       "      <td>0.578764</td>\n",
       "      <td>0.279167</td>\n",
       "      <td>0.351103</td>\n",
       "      <td>0.357084</td>\n",
       "      <td>0.328960</td>\n",
       "      <td>1</td>\n",
       "    </tr>\n",
       "    <tr>\n",
       "      <th>...</th>\n",
       "      <td>...</td>\n",
       "      <td>...</td>\n",
       "      <td>...</td>\n",
       "      <td>...</td>\n",
       "      <td>...</td>\n",
       "      <td>...</td>\n",
       "      <td>...</td>\n",
       "      <td>...</td>\n",
       "      <td>...</td>\n",
       "      <td>...</td>\n",
       "      <td>...</td>\n",
       "      <td>...</td>\n",
       "      <td>...</td>\n",
       "      <td>...</td>\n",
       "      <td>...</td>\n",
       "      <td>...</td>\n",
       "      <td>...</td>\n",
       "      <td>...</td>\n",
       "      <td>...</td>\n",
       "      <td>...</td>\n",
       "      <td>...</td>\n",
       "    </tr>\n",
       "    <tr>\n",
       "      <th>499993</th>\n",
       "      <td>A</td>\n",
       "      <td>N</td>\n",
       "      <td>F</td>\n",
       "      <td>A</td>\n",
       "      <td>E</td>\n",
       "      <td>BU</td>\n",
       "      <td>A</td>\n",
       "      <td>AS</td>\n",
       "      <td>K</td>\n",
       "      <td>A</td>\n",
       "      <td>...</td>\n",
       "      <td>0.662428</td>\n",
       "      <td>0.671927</td>\n",
       "      <td>0.390566</td>\n",
       "      <td>0.145840</td>\n",
       "      <td>0.262767</td>\n",
       "      <td>0.514248</td>\n",
       "      <td>0.519340</td>\n",
       "      <td>0.617436</td>\n",
       "      <td>0.688007</td>\n",
       "      <td>0</td>\n",
       "    </tr>\n",
       "    <tr>\n",
       "      <th>499995</th>\n",
       "      <td>A</td>\n",
       "      <td>K</td>\n",
       "      <td>A</td>\n",
       "      <td>A</td>\n",
       "      <td>G</td>\n",
       "      <td>BI</td>\n",
       "      <td>A</td>\n",
       "      <td>K</td>\n",
       "      <td>AE</td>\n",
       "      <td>E</td>\n",
       "      <td>...</td>\n",
       "      <td>0.821657</td>\n",
       "      <td>0.620356</td>\n",
       "      <td>0.384891</td>\n",
       "      <td>0.735879</td>\n",
       "      <td>0.547731</td>\n",
       "      <td>0.726653</td>\n",
       "      <td>0.470575</td>\n",
       "      <td>0.275743</td>\n",
       "      <td>0.638939</td>\n",
       "      <td>0</td>\n",
       "    </tr>\n",
       "    <tr>\n",
       "      <th>499996</th>\n",
       "      <td>A</td>\n",
       "      <td>G</td>\n",
       "      <td>M</td>\n",
       "      <td>A</td>\n",
       "      <td>H</td>\n",
       "      <td>BI</td>\n",
       "      <td>C</td>\n",
       "      <td>L</td>\n",
       "      <td>F</td>\n",
       "      <td>A</td>\n",
       "      <td>...</td>\n",
       "      <td>0.407037</td>\n",
       "      <td>0.232436</td>\n",
       "      <td>0.832482</td>\n",
       "      <td>0.810663</td>\n",
       "      <td>0.596939</td>\n",
       "      <td>0.308821</td>\n",
       "      <td>0.373997</td>\n",
       "      <td>0.518024</td>\n",
       "      <td>0.452144</td>\n",
       "      <td>1</td>\n",
       "    </tr>\n",
       "    <tr>\n",
       "      <th>499997</th>\n",
       "      <td>B</td>\n",
       "      <td>H</td>\n",
       "      <td>A</td>\n",
       "      <td>D</td>\n",
       "      <td>B</td>\n",
       "      <td>BI</td>\n",
       "      <td>A</td>\n",
       "      <td>AA</td>\n",
       "      <td>AX</td>\n",
       "      <td>A</td>\n",
       "      <td>...</td>\n",
       "      <td>0.808045</td>\n",
       "      <td>0.630708</td>\n",
       "      <td>0.346898</td>\n",
       "      <td>0.735147</td>\n",
       "      <td>0.563488</td>\n",
       "      <td>0.609836</td>\n",
       "      <td>0.680430</td>\n",
       "      <td>0.318453</td>\n",
       "      <td>0.335822</td>\n",
       "      <td>0</td>\n",
       "    </tr>\n",
       "    <tr>\n",
       "      <th>499999</th>\n",
       "      <td>A</td>\n",
       "      <td>F</td>\n",
       "      <td>C</td>\n",
       "      <td>A</td>\n",
       "      <td>E</td>\n",
       "      <td>BI</td>\n",
       "      <td>C</td>\n",
       "      <td>AV</td>\n",
       "      <td>S</td>\n",
       "      <td>A</td>\n",
       "      <td>...</td>\n",
       "      <td>0.775451</td>\n",
       "      <td>0.848696</td>\n",
       "      <td>0.819377</td>\n",
       "      <td>0.355467</td>\n",
       "      <td>0.218153</td>\n",
       "      <td>0.968856</td>\n",
       "      <td>0.823655</td>\n",
       "      <td>0.330515</td>\n",
       "      <td>0.972569</td>\n",
       "      <td>0</td>\n",
       "    </tr>\n",
       "  </tbody>\n",
       "</table>\n",
       "<p>300000 rows × 31 columns</p>\n",
       "</div>"
      ],
      "text/plain": [
       "       cat0 cat1 cat2 cat3 cat4 cat5 cat6 cat7 cat8 cat9  ...     cont2  \\\n",
       "id                                                        ...             \n",
       "0         A    I    A    B    B   BI    A    S    Q    A  ...  0.759439   \n",
       "1         A    I    A    A    E   BI    K    W   AD    F  ...  0.386385   \n",
       "2         A    K    A    A    E   BI    A    E   BM    L  ...  0.343255   \n",
       "3         A    K    A    C    E   BI    A    Y   AD    F  ...  0.831147   \n",
       "4         A    I    G    B    E   BI    C    G    Q    A  ...  0.338818   \n",
       "...     ...  ...  ...  ...  ...  ...  ...  ...  ...  ...  ...       ...   \n",
       "499993    A    N    F    A    E   BU    A   AS    K    A  ...  0.662428   \n",
       "499995    A    K    A    A    G   BI    A    K   AE    E  ...  0.821657   \n",
       "499996    A    G    M    A    H   BI    C    L    F    A  ...  0.407037   \n",
       "499997    B    H    A    D    B   BI    A   AA   AX    A  ...  0.808045   \n",
       "499999    A    F    C    A    E   BI    C   AV    S    A  ...  0.775451   \n",
       "\n",
       "           cont3     cont4     cont5     cont6     cont7     cont8     cont9  \\\n",
       "id                                                                             \n",
       "0       0.795549  0.681917  0.621672  0.592184  0.791921  0.815254  0.965006   \n",
       "1       0.541366  0.388982  0.357778  0.600044  0.408701  0.399353  0.927406   \n",
       "2       0.616352  0.793687  0.552877  0.352113  0.388835  0.412303  0.292696   \n",
       "3       0.807807  0.800032  0.619147  0.221789  0.897617  0.633669  0.760318   \n",
       "4       0.277308  0.610578  0.128291  0.578764  0.279167  0.351103  0.357084   \n",
       "...          ...       ...       ...       ...       ...       ...       ...   \n",
       "499993  0.671927  0.390566  0.145840  0.262767  0.514248  0.519340  0.617436   \n",
       "499995  0.620356  0.384891  0.735879  0.547731  0.726653  0.470575  0.275743   \n",
       "499996  0.232436  0.832482  0.810663  0.596939  0.308821  0.373997  0.518024   \n",
       "499997  0.630708  0.346898  0.735147  0.563488  0.609836  0.680430  0.318453   \n",
       "499999  0.848696  0.819377  0.355467  0.218153  0.968856  0.823655  0.330515   \n",
       "\n",
       "          cont10  target  \n",
       "id                        \n",
       "0       0.665915       0  \n",
       "1       0.493729       0  \n",
       "2       0.549452       0  \n",
       "3       0.934242       0  \n",
       "4       0.328960       1  \n",
       "...          ...     ...  \n",
       "499993  0.688007       0  \n",
       "499995  0.638939       0  \n",
       "499996  0.452144       1  \n",
       "499997  0.335822       0  \n",
       "499999  0.972569       0  \n",
       "\n",
       "[300000 rows x 31 columns]"
      ]
     },
     "execution_count": 2,
     "metadata": {},
     "output_type": "execute_result"
    }
   ],
   "source": [
    "train = pd.read_csv(input_path + 'train.csv', index_col='id')\n",
    "train"
   ]
  },
  {
   "cell_type": "code",
   "execution_count": 4,
   "metadata": {},
   "outputs": [
    {
     "name": "stdout",
     "output_type": "stream",
     "text": [
      "<class 'pandas.core.frame.DataFrame'>\n",
      "Int64Index: 300000 entries, 0 to 499999\n",
      "Data columns (total 31 columns):\n",
      " #   Column  Non-Null Count   Dtype  \n",
      "---  ------  --------------   -----  \n",
      " 0   cat0    300000 non-null  object \n",
      " 1   cat1    300000 non-null  object \n",
      " 2   cat2    300000 non-null  object \n",
      " 3   cat3    300000 non-null  object \n",
      " 4   cat4    300000 non-null  object \n",
      " 5   cat5    300000 non-null  object \n",
      " 6   cat6    300000 non-null  object \n",
      " 7   cat7    300000 non-null  object \n",
      " 8   cat8    300000 non-null  object \n",
      " 9   cat9    300000 non-null  object \n",
      " 10  cat10   300000 non-null  object \n",
      " 11  cat11   300000 non-null  object \n",
      " 12  cat12   300000 non-null  object \n",
      " 13  cat13   300000 non-null  object \n",
      " 14  cat14   300000 non-null  object \n",
      " 15  cat15   300000 non-null  object \n",
      " 16  cat16   300000 non-null  object \n",
      " 17  cat17   300000 non-null  object \n",
      " 18  cat18   300000 non-null  object \n",
      " 19  cont0   300000 non-null  float64\n",
      " 20  cont1   300000 non-null  float64\n",
      " 21  cont2   300000 non-null  float64\n",
      " 22  cont3   300000 non-null  float64\n",
      " 23  cont4   300000 non-null  float64\n",
      " 24  cont5   300000 non-null  float64\n",
      " 25  cont6   300000 non-null  float64\n",
      " 26  cont7   300000 non-null  float64\n",
      " 27  cont8   300000 non-null  float64\n",
      " 28  cont9   300000 non-null  float64\n",
      " 29  cont10  300000 non-null  float64\n",
      " 30  target  300000 non-null  int64  \n",
      "dtypes: float64(11), int64(1), object(19)\n",
      "memory usage: 73.2+ MB\n"
     ]
    }
   ],
   "source": [
    "train.info()"
   ]
  },
  {
   "cell_type": "code",
   "execution_count": 3,
   "metadata": {},
   "outputs": [
    {
     "data": {
      "text/html": [
       "<div>\n",
       "<style scoped>\n",
       "    .dataframe tbody tr th:only-of-type {\n",
       "        vertical-align: middle;\n",
       "    }\n",
       "\n",
       "    .dataframe tbody tr th {\n",
       "        vertical-align: top;\n",
       "    }\n",
       "\n",
       "    .dataframe thead th {\n",
       "        text-align: right;\n",
       "    }\n",
       "</style>\n",
       "<table border=\"1\" class=\"dataframe\">\n",
       "  <thead>\n",
       "    <tr style=\"text-align: right;\">\n",
       "      <th></th>\n",
       "      <th>cat0</th>\n",
       "      <th>cat1</th>\n",
       "      <th>cat2</th>\n",
       "      <th>cat3</th>\n",
       "      <th>cat4</th>\n",
       "      <th>cat5</th>\n",
       "      <th>cat6</th>\n",
       "      <th>cat7</th>\n",
       "      <th>cat8</th>\n",
       "      <th>cat9</th>\n",
       "      <th>...</th>\n",
       "      <th>cont1</th>\n",
       "      <th>cont2</th>\n",
       "      <th>cont3</th>\n",
       "      <th>cont4</th>\n",
       "      <th>cont5</th>\n",
       "      <th>cont6</th>\n",
       "      <th>cont7</th>\n",
       "      <th>cont8</th>\n",
       "      <th>cont9</th>\n",
       "      <th>cont10</th>\n",
       "    </tr>\n",
       "    <tr>\n",
       "      <th>id</th>\n",
       "      <th></th>\n",
       "      <th></th>\n",
       "      <th></th>\n",
       "      <th></th>\n",
       "      <th></th>\n",
       "      <th></th>\n",
       "      <th></th>\n",
       "      <th></th>\n",
       "      <th></th>\n",
       "      <th></th>\n",
       "      <th></th>\n",
       "      <th></th>\n",
       "      <th></th>\n",
       "      <th></th>\n",
       "      <th></th>\n",
       "      <th></th>\n",
       "      <th></th>\n",
       "      <th></th>\n",
       "      <th></th>\n",
       "      <th></th>\n",
       "      <th></th>\n",
       "    </tr>\n",
       "  </thead>\n",
       "  <tbody>\n",
       "    <tr>\n",
       "      <th>5</th>\n",
       "      <td>A</td>\n",
       "      <td>F</td>\n",
       "      <td>A</td>\n",
       "      <td>A</td>\n",
       "      <td>F</td>\n",
       "      <td>BI</td>\n",
       "      <td>A</td>\n",
       "      <td>AH</td>\n",
       "      <td>AX</td>\n",
       "      <td>A</td>\n",
       "      <td>...</td>\n",
       "      <td>0.735690</td>\n",
       "      <td>0.578366</td>\n",
       "      <td>0.723154</td>\n",
       "      <td>0.228037</td>\n",
       "      <td>0.356227</td>\n",
       "      <td>0.551249</td>\n",
       "      <td>0.655693</td>\n",
       "      <td>0.598331</td>\n",
       "      <td>0.359987</td>\n",
       "      <td>0.947489</td>\n",
       "    </tr>\n",
       "    <tr>\n",
       "      <th>6</th>\n",
       "      <td>A</td>\n",
       "      <td>H</td>\n",
       "      <td>C</td>\n",
       "      <td>A</td>\n",
       "      <td>E</td>\n",
       "      <td>AB</td>\n",
       "      <td>I</td>\n",
       "      <td>F</td>\n",
       "      <td>N</td>\n",
       "      <td>A</td>\n",
       "      <td>...</td>\n",
       "      <td>0.313703</td>\n",
       "      <td>0.928885</td>\n",
       "      <td>0.516602</td>\n",
       "      <td>0.600169</td>\n",
       "      <td>0.795224</td>\n",
       "      <td>0.248987</td>\n",
       "      <td>0.654614</td>\n",
       "      <td>0.347944</td>\n",
       "      <td>0.565520</td>\n",
       "      <td>0.388580</td>\n",
       "    </tr>\n",
       "    <tr>\n",
       "      <th>8</th>\n",
       "      <td>A</td>\n",
       "      <td>N</td>\n",
       "      <td>C</td>\n",
       "      <td>A</td>\n",
       "      <td>F</td>\n",
       "      <td>AB</td>\n",
       "      <td>A</td>\n",
       "      <td>AH</td>\n",
       "      <td>BC</td>\n",
       "      <td>A</td>\n",
       "      <td>...</td>\n",
       "      <td>0.448201</td>\n",
       "      <td>0.424876</td>\n",
       "      <td>0.344729</td>\n",
       "      <td>0.242073</td>\n",
       "      <td>0.270632</td>\n",
       "      <td>0.746740</td>\n",
       "      <td>0.335590</td>\n",
       "      <td>0.341238</td>\n",
       "      <td>0.252289</td>\n",
       "      <td>0.411592</td>\n",
       "    </tr>\n",
       "    <tr>\n",
       "      <th>9</th>\n",
       "      <td>B</td>\n",
       "      <td>L</td>\n",
       "      <td>C</td>\n",
       "      <td>A</td>\n",
       "      <td>F</td>\n",
       "      <td>BI</td>\n",
       "      <td>A</td>\n",
       "      <td>E</td>\n",
       "      <td>AX</td>\n",
       "      <td>A</td>\n",
       "      <td>...</td>\n",
       "      <td>0.666092</td>\n",
       "      <td>0.598943</td>\n",
       "      <td>0.561971</td>\n",
       "      <td>0.806347</td>\n",
       "      <td>0.735983</td>\n",
       "      <td>0.538724</td>\n",
       "      <td>0.381566</td>\n",
       "      <td>0.481660</td>\n",
       "      <td>0.348514</td>\n",
       "      <td>0.325723</td>\n",
       "    </tr>\n",
       "    <tr>\n",
       "      <th>11</th>\n",
       "      <td>A</td>\n",
       "      <td>F</td>\n",
       "      <td>A</td>\n",
       "      <td>B</td>\n",
       "      <td>F</td>\n",
       "      <td>BI</td>\n",
       "      <td>A</td>\n",
       "      <td>AH</td>\n",
       "      <td>I</td>\n",
       "      <td>A</td>\n",
       "      <td>...</td>\n",
       "      <td>0.772229</td>\n",
       "      <td>0.479572</td>\n",
       "      <td>0.767745</td>\n",
       "      <td>0.252454</td>\n",
       "      <td>0.354810</td>\n",
       "      <td>0.178920</td>\n",
       "      <td>0.763479</td>\n",
       "      <td>0.562491</td>\n",
       "      <td>0.466261</td>\n",
       "      <td>0.585781</td>\n",
       "    </tr>\n",
       "    <tr>\n",
       "      <th>...</th>\n",
       "      <td>...</td>\n",
       "      <td>...</td>\n",
       "      <td>...</td>\n",
       "      <td>...</td>\n",
       "      <td>...</td>\n",
       "      <td>...</td>\n",
       "      <td>...</td>\n",
       "      <td>...</td>\n",
       "      <td>...</td>\n",
       "      <td>...</td>\n",
       "      <td>...</td>\n",
       "      <td>...</td>\n",
       "      <td>...</td>\n",
       "      <td>...</td>\n",
       "      <td>...</td>\n",
       "      <td>...</td>\n",
       "      <td>...</td>\n",
       "      <td>...</td>\n",
       "      <td>...</td>\n",
       "      <td>...</td>\n",
       "      <td>...</td>\n",
       "    </tr>\n",
       "    <tr>\n",
       "      <th>499983</th>\n",
       "      <td>A</td>\n",
       "      <td>N</td>\n",
       "      <td>A</td>\n",
       "      <td>D</td>\n",
       "      <td>F</td>\n",
       "      <td>BI</td>\n",
       "      <td>A</td>\n",
       "      <td>AF</td>\n",
       "      <td>AX</td>\n",
       "      <td>A</td>\n",
       "      <td>...</td>\n",
       "      <td>0.361426</td>\n",
       "      <td>0.351946</td>\n",
       "      <td>0.327670</td>\n",
       "      <td>0.205547</td>\n",
       "      <td>0.679195</td>\n",
       "      <td>0.485967</td>\n",
       "      <td>0.319130</td>\n",
       "      <td>0.520681</td>\n",
       "      <td>0.519545</td>\n",
       "      <td>0.427119</td>\n",
       "    </tr>\n",
       "    <tr>\n",
       "      <th>499984</th>\n",
       "      <td>B</td>\n",
       "      <td>I</td>\n",
       "      <td>A</td>\n",
       "      <td>B</td>\n",
       "      <td>E</td>\n",
       "      <td>BI</td>\n",
       "      <td>A</td>\n",
       "      <td>AS</td>\n",
       "      <td>S</td>\n",
       "      <td>E</td>\n",
       "      <td>...</td>\n",
       "      <td>0.551106</td>\n",
       "      <td>0.628843</td>\n",
       "      <td>0.677765</td>\n",
       "      <td>0.624935</td>\n",
       "      <td>0.555306</td>\n",
       "      <td>0.242424</td>\n",
       "      <td>0.700829</td>\n",
       "      <td>0.531728</td>\n",
       "      <td>0.528427</td>\n",
       "      <td>0.922645</td>\n",
       "    </tr>\n",
       "    <tr>\n",
       "      <th>499987</th>\n",
       "      <td>A</td>\n",
       "      <td>L</td>\n",
       "      <td>D</td>\n",
       "      <td>A</td>\n",
       "      <td>H</td>\n",
       "      <td>BI</td>\n",
       "      <td>A</td>\n",
       "      <td>AN</td>\n",
       "      <td>J</td>\n",
       "      <td>A</td>\n",
       "      <td>...</td>\n",
       "      <td>0.812384</td>\n",
       "      <td>0.803348</td>\n",
       "      <td>0.324762</td>\n",
       "      <td>0.665624</td>\n",
       "      <td>0.488447</td>\n",
       "      <td>0.853213</td>\n",
       "      <td>0.578641</td>\n",
       "      <td>0.811941</td>\n",
       "      <td>0.537106</td>\n",
       "      <td>0.531758</td>\n",
       "    </tr>\n",
       "    <tr>\n",
       "      <th>499994</th>\n",
       "      <td>A</td>\n",
       "      <td>K</td>\n",
       "      <td>A</td>\n",
       "      <td>C</td>\n",
       "      <td>F</td>\n",
       "      <td>BI</td>\n",
       "      <td>A</td>\n",
       "      <td>R</td>\n",
       "      <td>BM</td>\n",
       "      <td>A</td>\n",
       "      <td>...</td>\n",
       "      <td>0.811282</td>\n",
       "      <td>0.820635</td>\n",
       "      <td>0.561449</td>\n",
       "      <td>0.797434</td>\n",
       "      <td>0.555089</td>\n",
       "      <td>0.746532</td>\n",
       "      <td>0.369986</td>\n",
       "      <td>0.438712</td>\n",
       "      <td>0.715524</td>\n",
       "      <td>0.381978</td>\n",
       "    </tr>\n",
       "    <tr>\n",
       "      <th>499998</th>\n",
       "      <td>A</td>\n",
       "      <td>K</td>\n",
       "      <td>A</td>\n",
       "      <td>A</td>\n",
       "      <td>E</td>\n",
       "      <td>BI</td>\n",
       "      <td>C</td>\n",
       "      <td>AO</td>\n",
       "      <td>BM</td>\n",
       "      <td>I</td>\n",
       "      <td>...</td>\n",
       "      <td>0.336168</td>\n",
       "      <td>0.270483</td>\n",
       "      <td>0.581868</td>\n",
       "      <td>0.218993</td>\n",
       "      <td>0.553284</td>\n",
       "      <td>0.565213</td>\n",
       "      <td>0.378355</td>\n",
       "      <td>0.547927</td>\n",
       "      <td>0.273595</td>\n",
       "      <td>0.448016</td>\n",
       "    </tr>\n",
       "  </tbody>\n",
       "</table>\n",
       "<p>200000 rows × 30 columns</p>\n",
       "</div>"
      ],
      "text/plain": [
       "       cat0 cat1 cat2 cat3 cat4 cat5 cat6 cat7 cat8 cat9  ...     cont1  \\\n",
       "id                                                        ...             \n",
       "5         A    F    A    A    F   BI    A   AH   AX    A  ...  0.735690   \n",
       "6         A    H    C    A    E   AB    I    F    N    A  ...  0.313703   \n",
       "8         A    N    C    A    F   AB    A   AH   BC    A  ...  0.448201   \n",
       "9         B    L    C    A    F   BI    A    E   AX    A  ...  0.666092   \n",
       "11        A    F    A    B    F   BI    A   AH    I    A  ...  0.772229   \n",
       "...     ...  ...  ...  ...  ...  ...  ...  ...  ...  ...  ...       ...   \n",
       "499983    A    N    A    D    F   BI    A   AF   AX    A  ...  0.361426   \n",
       "499984    B    I    A    B    E   BI    A   AS    S    E  ...  0.551106   \n",
       "499987    A    L    D    A    H   BI    A   AN    J    A  ...  0.812384   \n",
       "499994    A    K    A    C    F   BI    A    R   BM    A  ...  0.811282   \n",
       "499998    A    K    A    A    E   BI    C   AO   BM    I  ...  0.336168   \n",
       "\n",
       "           cont2     cont3     cont4     cont5     cont6     cont7     cont8  \\\n",
       "id                                                                             \n",
       "5       0.578366  0.723154  0.228037  0.356227  0.551249  0.655693  0.598331   \n",
       "6       0.928885  0.516602  0.600169  0.795224  0.248987  0.654614  0.347944   \n",
       "8       0.424876  0.344729  0.242073  0.270632  0.746740  0.335590  0.341238   \n",
       "9       0.598943  0.561971  0.806347  0.735983  0.538724  0.381566  0.481660   \n",
       "11      0.479572  0.767745  0.252454  0.354810  0.178920  0.763479  0.562491   \n",
       "...          ...       ...       ...       ...       ...       ...       ...   \n",
       "499983  0.351946  0.327670  0.205547  0.679195  0.485967  0.319130  0.520681   \n",
       "499984  0.628843  0.677765  0.624935  0.555306  0.242424  0.700829  0.531728   \n",
       "499987  0.803348  0.324762  0.665624  0.488447  0.853213  0.578641  0.811941   \n",
       "499994  0.820635  0.561449  0.797434  0.555089  0.746532  0.369986  0.438712   \n",
       "499998  0.270483  0.581868  0.218993  0.553284  0.565213  0.378355  0.547927   \n",
       "\n",
       "           cont9    cont10  \n",
       "id                          \n",
       "5       0.359987  0.947489  \n",
       "6       0.565520  0.388580  \n",
       "8       0.252289  0.411592  \n",
       "9       0.348514  0.325723  \n",
       "11      0.466261  0.585781  \n",
       "...          ...       ...  \n",
       "499983  0.519545  0.427119  \n",
       "499984  0.528427  0.922645  \n",
       "499987  0.537106  0.531758  \n",
       "499994  0.715524  0.381978  \n",
       "499998  0.273595  0.448016  \n",
       "\n",
       "[200000 rows x 30 columns]"
      ]
     },
     "execution_count": 3,
     "metadata": {},
     "output_type": "execute_result"
    }
   ],
   "source": [
    "test = pd.read_csv(input_path + 'test.csv', index_col='id')\n",
    "test"
   ]
  },
  {
   "cell_type": "code",
   "execution_count": 6,
   "metadata": {},
   "outputs": [
    {
     "name": "stdout",
     "output_type": "stream",
     "text": [
      "<class 'pandas.core.frame.DataFrame'>\n",
      "Int64Index: 200000 entries, 5 to 499998\n",
      "Data columns (total 30 columns):\n",
      " #   Column  Non-Null Count   Dtype  \n",
      "---  ------  --------------   -----  \n",
      " 0   cat0    200000 non-null  object \n",
      " 1   cat1    200000 non-null  object \n",
      " 2   cat2    200000 non-null  object \n",
      " 3   cat3    200000 non-null  object \n",
      " 4   cat4    200000 non-null  object \n",
      " 5   cat5    200000 non-null  object \n",
      " 6   cat6    200000 non-null  object \n",
      " 7   cat7    200000 non-null  object \n",
      " 8   cat8    200000 non-null  object \n",
      " 9   cat9    200000 non-null  object \n",
      " 10  cat10   200000 non-null  object \n",
      " 11  cat11   200000 non-null  object \n",
      " 12  cat12   200000 non-null  object \n",
      " 13  cat13   200000 non-null  object \n",
      " 14  cat14   200000 non-null  object \n",
      " 15  cat15   200000 non-null  object \n",
      " 16  cat16   200000 non-null  object \n",
      " 17  cat17   200000 non-null  object \n",
      " 18  cat18   200000 non-null  object \n",
      " 19  cont0   200000 non-null  float64\n",
      " 20  cont1   200000 non-null  float64\n",
      " 21  cont2   200000 non-null  float64\n",
      " 22  cont3   200000 non-null  float64\n",
      " 23  cont4   200000 non-null  float64\n",
      " 24  cont5   200000 non-null  float64\n",
      " 25  cont6   200000 non-null  float64\n",
      " 26  cont7   200000 non-null  float64\n",
      " 27  cont8   200000 non-null  float64\n",
      " 28  cont9   200000 non-null  float64\n",
      " 29  cont10  200000 non-null  float64\n",
      "dtypes: float64(11), object(19)\n",
      "memory usage: 47.3+ MB\n"
     ]
    }
   ],
   "source": [
    "test.info()"
   ]
  },
  {
   "cell_type": "code",
   "execution_count": 4,
   "metadata": {},
   "outputs": [
    {
     "data": {
      "text/html": [
       "<div>\n",
       "<style scoped>\n",
       "    .dataframe tbody tr th:only-of-type {\n",
       "        vertical-align: middle;\n",
       "    }\n",
       "\n",
       "    .dataframe tbody tr th {\n",
       "        vertical-align: top;\n",
       "    }\n",
       "\n",
       "    .dataframe thead th {\n",
       "        text-align: right;\n",
       "    }\n",
       "</style>\n",
       "<table border=\"1\" class=\"dataframe\">\n",
       "  <thead>\n",
       "    <tr style=\"text-align: right;\">\n",
       "      <th></th>\n",
       "      <th>target</th>\n",
       "    </tr>\n",
       "    <tr>\n",
       "      <th>id</th>\n",
       "      <th></th>\n",
       "    </tr>\n",
       "  </thead>\n",
       "  <tbody>\n",
       "    <tr>\n",
       "      <th>430676</th>\n",
       "      <td>0.5</td>\n",
       "    </tr>\n",
       "    <tr>\n",
       "      <th>299646</th>\n",
       "      <td>0.5</td>\n",
       "    </tr>\n",
       "    <tr>\n",
       "      <th>162885</th>\n",
       "      <td>0.5</td>\n",
       "    </tr>\n",
       "    <tr>\n",
       "      <th>434557</th>\n",
       "      <td>0.5</td>\n",
       "    </tr>\n",
       "    <tr>\n",
       "      <th>112417</th>\n",
       "      <td>0.5</td>\n",
       "    </tr>\n",
       "  </tbody>\n",
       "</table>\n",
       "</div>"
      ],
      "text/plain": [
       "        target\n",
       "id            \n",
       "430676     0.5\n",
       "299646     0.5\n",
       "162885     0.5\n",
       "434557     0.5\n",
       "112417     0.5"
      ]
     },
     "execution_count": 4,
     "metadata": {},
     "output_type": "execute_result"
    }
   ],
   "source": [
    "submission = pd.read_csv(input_path + 'sample_submission.csv', index_col='id')\n",
    "submission.sample(5)"
   ]
  },
  {
   "cell_type": "code",
   "execution_count": 5,
   "metadata": {},
   "outputs": [],
   "source": [
    "# Разделение на категориальные и числовые колонки\n",
    "cat_columns = [col for col in list(test.columns) if 'cat' in col]\n",
    "cont_columns = [col for col in list(test.columns) if 'cont' in col]"
   ]
  },
  {
   "cell_type": "code",
   "execution_count": 6,
   "metadata": {},
   "outputs": [],
   "source": [
    "# Применение LabelEncoder для перевода категориальных колонок в числовые\n",
    "label_train = train.copy()\n",
    "label_test = test.copy()\n",
    "\n",
    "label_encoder = LabelEncoder()\n",
    "for col in cat_columns:\n",
    "    label_encoder.fit(list(train[col].values) + list(test[col].values))\n",
    "    label_train[col] = label_encoder.transform(train[col])\n",
    "    label_test[col] = label_encoder.transform(test[col])"
   ]
  },
  {
   "cell_type": "code",
   "execution_count": 7,
   "metadata": {},
   "outputs": [],
   "source": [
    "# Разделение выборки на train test\n",
    "X_train, X_test, y_train, y_test = train_test_split(label_train.iloc[:, :-1], label_train['target'], train_size=0.6)"
   ]
  },
  {
   "cell_type": "code",
   "execution_count": 8,
   "metadata": {},
   "outputs": [
    {
     "name": "stdout",
     "output_type": "stream",
     "text": [
      "ROC_AUC_SCORE:  0.87322\n"
     ]
    }
   ],
   "source": [
    "clfRF = RandomForestClassifier(n_estimators=200, max_depth=7, n_jobs=-1)\n",
    "clfRF.fit(X_train, y_train)\n",
    "y_pred = clfRF.predict_proba(X_test)[:, 1]\n",
    "score = roc_auc_score(y_test, y_pred)\n",
    "print(f'ROC_AUC_SCORE: {score : .5f}')"
   ]
  },
  {
   "cell_type": "code",
   "execution_count": 11,
   "metadata": {},
   "outputs": [],
   "source": [
    "# Train на полных данных\n",
    "clfRF = RandomForestClassifier(n_estimators=200, max_depth=7, n_jobs=-1)\n",
    "clfRF.fit(label_train.iloc[:, :-1], label_train['target'])\n",
    "submission['target'] = clfRF.predict_proba(label_test)[:, 1]\n",
    "submission.to_csv('random_forest_1.csv')"
   ]
  },
  {
   "cell_type": "code",
   "execution_count": null,
   "metadata": {},
   "outputs": [],
   "source": [
    "# Пробую XGBoost\n",
    "from xgboost import XGBClassifier\n",
    "\n",
    "xgb_clf = XGBClassifier(n_estimators=1000, learning_rate=0.01, n_jobs=-1, verbose=False)\n",
    "xgb_clf.fit(X_train, y_train)\n",
    "y_pred_2 = xgb_clf.predict_proba(X_test)[:, 1]\n",
    "score_2 = roc_auc_score(y_test, y_pred_2)\n",
    "print(f'ROC_AUC_SCORE: {score_2 : .5f}')"
   ]
  },
  {
   "cell_type": "code",
   "execution_count": 13,
   "metadata": {},
   "outputs": [],
   "source": [
    "#for n in range(100, 1001, 100):\n",
    "#    xgb_clf = XGBClassifier(n_estimators=n, learning_rate=0.1, n_jobs=-1, verbose=False)\n",
    "#    xgb_clf.fit(X_train, y_train)\n",
    "#    y_pred_2 = xgb_clf.predict(X_test)\n",
    "#    score_2 = roc_auc_score(y_test, y_pred_2)\n",
    "#    print(f'n = {n} ROC_AUC_SCORE: {score_2 : .5f}')"
   ]
  },
  {
   "cell_type": "code",
   "execution_count": 12,
   "metadata": {},
   "outputs": [
    {
     "name": "stdout",
     "output_type": "stream",
     "text": [
      "[14:44:32] WARNING: C:/Users/Administrator/workspace/xgboost-win64_release_1.3.0/src/learner.cc:541: \n",
      "Parameters: { verbose } might not be used.\n",
      "\n",
      "  This may not be accurate due to some parameters are only used in language bindings but\n",
      "  passed down to XGBoost core.  Or some parameters are not used but slip through this\n",
      "  verification. Please open an issue if you find above cases.\n",
      "\n",
      "\n",
      "[14:44:33] WARNING: C:/Users/Administrator/workspace/xgboost-win64_release_1.3.0/src/learner.cc:1061: Starting in XGBoost 1.3.0, the default evaluation metric used with the objective 'binary:logistic' was changed from 'error' to 'logloss'. Explicitly set eval_metric if you'd like to restore the old behavior.\n"
     ]
    }
   ],
   "source": [
    "xgb_clf_2 = XGBClassifier(n_estimators=600, learning_rate=0.05, n_jobs=-1, verbose=False)\n",
    "xgb_clf_2.fit(label_train.iloc[:, :-1], label_train['target'])\n",
    "submission_2 = submission.copy()\n",
    "submission_2['target'] = xgb_clf_2.predict_proba(label_test)[:, 1]\n",
    "submission_2.to_csv('xgboost_1.csv')"
   ]
  },
  {
   "cell_type": "code",
   "execution_count": 15,
   "metadata": {},
   "outputs": [
    {
     "name": "stdout",
     "output_type": "stream",
     "text": [
      "ROC_AUC_SCORE:  0.88718\n"
     ]
    }
   ],
   "source": [
    "# LightGBM\n",
    "import lightgbm as lgb\n",
    "\n",
    "lgb_clf = lgb.LGBMClassifier(num_leaves=1000, learning_rate=0.05, n_jobs=-1)\n",
    "lgb_clf.fit(X_train, y_train)\n",
    "y_pred_3 = lgb_clf.predict_proba(X_test)[:, 1]\n",
    "score_3 = roc_auc_score(y_test, y_pred_3)\n",
    "print(f'ROC_AUC_SCORE: {score_3 : .5f}')"
   ]
  },
  {
   "cell_type": "code",
   "execution_count": 31,
   "metadata": {},
   "outputs": [],
   "source": [
    "lgb_clf_1 = lgb.LGBMClassifier(num_leaves=450, learning_rate=0.05, n_jobs=-1)\n",
    "lgb_clf_1.fit(label_train.iloc[:, :-1], label_train['target'])\n",
    "submission_3 = submission.copy()\n",
    "submission_3['target'] = lgb_clf_1.predict_proba(label_test)[:, 1]\n",
    "submission_3.to_csv('lightgbm_1.csv')"
   ]
  },
  {
   "cell_type": "code",
   "execution_count": 14,
   "metadata": {},
   "outputs": [
    {
     "name": "stdout",
     "output_type": "stream",
     "text": [
      "i = 100 ROC_AUC_SCORE:  0.88751\n",
      "i = 200 ROC_AUC_SCORE:  0.88853\n",
      "i = 300 ROC_AUC_SCORE:  0.88858\n",
      "i = 400 ROC_AUC_SCORE:  0.88877\n",
      "i = 500 ROC_AUC_SCORE:  0.88834\n",
      "i = 600 ROC_AUC_SCORE:  0.88796\n",
      "i = 700 ROC_AUC_SCORE:  0.88776\n",
      "i = 800 ROC_AUC_SCORE:  0.88751\n",
      "i = 900 ROC_AUC_SCORE:  0.88754\n",
      "i = 1000 ROC_AUC_SCORE:  0.88718\n",
      "i = 1100 ROC_AUC_SCORE:  0.88689\n",
      "i = 1200 ROC_AUC_SCORE:  0.88637\n",
      "i = 1300 ROC_AUC_SCORE:  0.88629\n",
      "i = 1400 ROC_AUC_SCORE:  0.88611\n",
      "i = 1500 ROC_AUC_SCORE:  0.88579\n",
      "i = 1600 ROC_AUC_SCORE:  0.88610\n",
      "i = 1700 ROC_AUC_SCORE:  0.88574\n",
      "i = 1800 ROC_AUC_SCORE:  0.88507\n",
      "i = 1900 ROC_AUC_SCORE:  0.88525\n",
      "i = 2000 ROC_AUC_SCORE:  0.88478\n"
     ]
    },
    {
     "ename": "KeyboardInterrupt",
     "evalue": "",
     "output_type": "error",
     "traceback": [
      "\u001b[1;31m---------------------------------------------------------------------------\u001b[0m",
      "\u001b[1;31mKeyboardInterrupt\u001b[0m                         Traceback (most recent call last)",
      "\u001b[1;32m<ipython-input-14-89a46d921085>\u001b[0m in \u001b[0;36m<module>\u001b[1;34m\u001b[0m\n\u001b[0;32m      2\u001b[0m \u001b[1;32mfor\u001b[0m \u001b[0mi\u001b[0m \u001b[1;32min\u001b[0m \u001b[0mrange\u001b[0m\u001b[1;33m(\u001b[0m\u001b[1;36m100\u001b[0m\u001b[1;33m,\u001b[0m \u001b[1;36m50000\u001b[0m\u001b[1;33m,\u001b[0m \u001b[1;36m100\u001b[0m\u001b[1;33m)\u001b[0m\u001b[1;33m:\u001b[0m\u001b[1;33m\u001b[0m\u001b[1;33m\u001b[0m\u001b[0m\n\u001b[0;32m      3\u001b[0m     \u001b[0mlgb_clf\u001b[0m \u001b[1;33m=\u001b[0m \u001b[0mlgb\u001b[0m\u001b[1;33m.\u001b[0m\u001b[0mLGBMClassifier\u001b[0m\u001b[1;33m(\u001b[0m\u001b[0mnum_leaves\u001b[0m\u001b[1;33m=\u001b[0m\u001b[0mi\u001b[0m\u001b[1;33m,\u001b[0m \u001b[0mlearning_rate\u001b[0m\u001b[1;33m=\u001b[0m\u001b[1;36m0.05\u001b[0m\u001b[1;33m,\u001b[0m \u001b[0mn_jobs\u001b[0m\u001b[1;33m=\u001b[0m\u001b[1;33m-\u001b[0m\u001b[1;36m1\u001b[0m\u001b[1;33m)\u001b[0m\u001b[1;33m\u001b[0m\u001b[1;33m\u001b[0m\u001b[0m\n\u001b[1;32m----> 4\u001b[1;33m     \u001b[0mlgb_clf\u001b[0m\u001b[1;33m.\u001b[0m\u001b[0mfit\u001b[0m\u001b[1;33m(\u001b[0m\u001b[0mX_train\u001b[0m\u001b[1;33m,\u001b[0m \u001b[0my_train\u001b[0m\u001b[1;33m)\u001b[0m\u001b[1;33m\u001b[0m\u001b[1;33m\u001b[0m\u001b[0m\n\u001b[0m\u001b[0;32m      5\u001b[0m     \u001b[0my_pred_3\u001b[0m \u001b[1;33m=\u001b[0m \u001b[0mlgb_clf\u001b[0m\u001b[1;33m.\u001b[0m\u001b[0mpredict_proba\u001b[0m\u001b[1;33m(\u001b[0m\u001b[0mX_test\u001b[0m\u001b[1;33m)\u001b[0m\u001b[1;33m[\u001b[0m\u001b[1;33m:\u001b[0m\u001b[1;33m,\u001b[0m \u001b[1;36m1\u001b[0m\u001b[1;33m]\u001b[0m\u001b[1;33m\u001b[0m\u001b[1;33m\u001b[0m\u001b[0m\n\u001b[0;32m      6\u001b[0m     \u001b[0mscore_3\u001b[0m \u001b[1;33m=\u001b[0m \u001b[0mroc_auc_score\u001b[0m\u001b[1;33m(\u001b[0m\u001b[0my_test\u001b[0m\u001b[1;33m,\u001b[0m \u001b[0my_pred_3\u001b[0m\u001b[1;33m)\u001b[0m\u001b[1;33m\u001b[0m\u001b[1;33m\u001b[0m\u001b[0m\n",
      "\u001b[1;32mE:\\kaggle\\venv\\lib\\site-packages\\lightgbm\\sklearn.py\u001b[0m in \u001b[0;36mfit\u001b[1;34m(self, X, y, sample_weight, init_score, eval_set, eval_names, eval_sample_weight, eval_class_weight, eval_init_score, eval_metric, early_stopping_rounds, verbose, feature_name, categorical_feature, callbacks, init_model)\u001b[0m\n\u001b[0;32m    845\u001b[0m                     \u001b[0mvalid_sets\u001b[0m\u001b[1;33m[\u001b[0m\u001b[0mi\u001b[0m\u001b[1;33m]\u001b[0m \u001b[1;33m=\u001b[0m \u001b[1;33m(\u001b[0m\u001b[0mvalid_x\u001b[0m\u001b[1;33m,\u001b[0m \u001b[0mself\u001b[0m\u001b[1;33m.\u001b[0m\u001b[0m_le\u001b[0m\u001b[1;33m.\u001b[0m\u001b[0mtransform\u001b[0m\u001b[1;33m(\u001b[0m\u001b[0mvalid_y\u001b[0m\u001b[1;33m)\u001b[0m\u001b[1;33m)\u001b[0m\u001b[1;33m\u001b[0m\u001b[1;33m\u001b[0m\u001b[0m\n\u001b[0;32m    846\u001b[0m \u001b[1;33m\u001b[0m\u001b[0m\n\u001b[1;32m--> 847\u001b[1;33m         super(LGBMClassifier, self).fit(X, _y, sample_weight=sample_weight,\n\u001b[0m\u001b[0;32m    848\u001b[0m                                         \u001b[0minit_score\u001b[0m\u001b[1;33m=\u001b[0m\u001b[0minit_score\u001b[0m\u001b[1;33m,\u001b[0m \u001b[0meval_set\u001b[0m\u001b[1;33m=\u001b[0m\u001b[0mvalid_sets\u001b[0m\u001b[1;33m,\u001b[0m\u001b[1;33m\u001b[0m\u001b[1;33m\u001b[0m\u001b[0m\n\u001b[0;32m    849\u001b[0m                                         \u001b[0meval_names\u001b[0m\u001b[1;33m=\u001b[0m\u001b[0meval_names\u001b[0m\u001b[1;33m,\u001b[0m\u001b[1;33m\u001b[0m\u001b[1;33m\u001b[0m\u001b[0m\n",
      "\u001b[1;32mE:\\kaggle\\venv\\lib\\site-packages\\lightgbm\\sklearn.py\u001b[0m in \u001b[0;36mfit\u001b[1;34m(self, X, y, sample_weight, init_score, group, eval_set, eval_names, eval_sample_weight, eval_class_weight, eval_init_score, eval_group, eval_metric, early_stopping_rounds, verbose, feature_name, categorical_feature, callbacks, init_model)\u001b[0m\n\u001b[0;32m    610\u001b[0m             \u001b[0minit_model\u001b[0m \u001b[1;33m=\u001b[0m \u001b[0minit_model\u001b[0m\u001b[1;33m.\u001b[0m\u001b[0mbooster_\u001b[0m\u001b[1;33m\u001b[0m\u001b[1;33m\u001b[0m\u001b[0m\n\u001b[0;32m    611\u001b[0m \u001b[1;33m\u001b[0m\u001b[0m\n\u001b[1;32m--> 612\u001b[1;33m         self._Booster = train(params, train_set,\n\u001b[0m\u001b[0;32m    613\u001b[0m                               \u001b[0mself\u001b[0m\u001b[1;33m.\u001b[0m\u001b[0mn_estimators\u001b[0m\u001b[1;33m,\u001b[0m \u001b[0mvalid_sets\u001b[0m\u001b[1;33m=\u001b[0m\u001b[0mvalid_sets\u001b[0m\u001b[1;33m,\u001b[0m \u001b[0mvalid_names\u001b[0m\u001b[1;33m=\u001b[0m\u001b[0meval_names\u001b[0m\u001b[1;33m,\u001b[0m\u001b[1;33m\u001b[0m\u001b[1;33m\u001b[0m\u001b[0m\n\u001b[0;32m    614\u001b[0m                               \u001b[0mearly_stopping_rounds\u001b[0m\u001b[1;33m=\u001b[0m\u001b[0mearly_stopping_rounds\u001b[0m\u001b[1;33m,\u001b[0m\u001b[1;33m\u001b[0m\u001b[1;33m\u001b[0m\u001b[0m\n",
      "\u001b[1;32mE:\\kaggle\\venv\\lib\\site-packages\\lightgbm\\engine.py\u001b[0m in \u001b[0;36mtrain\u001b[1;34m(params, train_set, num_boost_round, valid_sets, valid_names, fobj, feval, init_model, feature_name, categorical_feature, early_stopping_rounds, evals_result, verbose_eval, learning_rates, keep_training_booster, callbacks)\u001b[0m\n\u001b[0;32m    250\u001b[0m                                     evaluation_result_list=None))\n\u001b[0;32m    251\u001b[0m \u001b[1;33m\u001b[0m\u001b[0m\n\u001b[1;32m--> 252\u001b[1;33m         \u001b[0mbooster\u001b[0m\u001b[1;33m.\u001b[0m\u001b[0mupdate\u001b[0m\u001b[1;33m(\u001b[0m\u001b[0mfobj\u001b[0m\u001b[1;33m=\u001b[0m\u001b[0mfobj\u001b[0m\u001b[1;33m)\u001b[0m\u001b[1;33m\u001b[0m\u001b[1;33m\u001b[0m\u001b[0m\n\u001b[0m\u001b[0;32m    253\u001b[0m \u001b[1;33m\u001b[0m\u001b[0m\n\u001b[0;32m    254\u001b[0m         \u001b[0mevaluation_result_list\u001b[0m \u001b[1;33m=\u001b[0m \u001b[1;33m[\u001b[0m\u001b[1;33m]\u001b[0m\u001b[1;33m\u001b[0m\u001b[1;33m\u001b[0m\u001b[0m\n",
      "\u001b[1;32mE:\\kaggle\\venv\\lib\\site-packages\\lightgbm\\basic.py\u001b[0m in \u001b[0;36mupdate\u001b[1;34m(self, train_set, fobj)\u001b[0m\n\u001b[0;32m   2456\u001b[0m             \u001b[1;32mif\u001b[0m \u001b[0mself\u001b[0m\u001b[1;33m.\u001b[0m\u001b[0m__set_objective_to_none\u001b[0m\u001b[1;33m:\u001b[0m\u001b[1;33m\u001b[0m\u001b[1;33m\u001b[0m\u001b[0m\n\u001b[0;32m   2457\u001b[0m                 \u001b[1;32mraise\u001b[0m \u001b[0mLightGBMError\u001b[0m\u001b[1;33m(\u001b[0m\u001b[1;34m'Cannot update due to null objective function.'\u001b[0m\u001b[1;33m)\u001b[0m\u001b[1;33m\u001b[0m\u001b[1;33m\u001b[0m\u001b[0m\n\u001b[1;32m-> 2458\u001b[1;33m             _safe_call(_LIB.LGBM_BoosterUpdateOneIter(\n\u001b[0m\u001b[0;32m   2459\u001b[0m                 \u001b[0mself\u001b[0m\u001b[1;33m.\u001b[0m\u001b[0mhandle\u001b[0m\u001b[1;33m,\u001b[0m\u001b[1;33m\u001b[0m\u001b[1;33m\u001b[0m\u001b[0m\n\u001b[0;32m   2460\u001b[0m                 ctypes.byref(is_finished)))\n",
      "\u001b[1;31mKeyboardInterrupt\u001b[0m: "
     ]
    }
   ],
   "source": [
    "# Попытка улучшить результат в LightGBM\n",
    "for i in range(100, 50000, 100):\n",
    "    lgb_clf = lgb.LGBMClassifier(num_leaves=i, learning_rate=0.05, n_jobs=-1)\n",
    "    lgb_clf.fit(X_train, y_train)\n",
    "    y_pred_3 = lgb_clf.predict_proba(X_test)[:, 1]\n",
    "    score_3 = roc_auc_score(y_test, y_pred_3)\n",
    "    print(f'i = {i} ROC_AUC_SCORE: {score_3 : .5f}')"
   ]
  },
  {
   "cell_type": "code",
   "execution_count": 30,
   "metadata": {},
   "outputs": [
    {
     "name": "stdout",
     "output_type": "stream",
     "text": [
      "i = 2100 ROC_AUC_SCORE:  0.88882\n"
     ]
    }
   ],
   "source": [
    "lgb_clf = lgb.LGBMClassifier(num_leaves=450, learning_rate=0.05, n_jobs=-1)\n",
    "lgb_clf.fit(X_train, y_train)\n",
    "y_pred_3 = lgb_clf.predict_proba(X_test)[:, 1]\n",
    "score_3 = roc_auc_score(y_test, y_pred_3)\n",
    "print(f'i = {i} ROC_AUC_SCORE: {score_3 : .5f}')"
   ]
  },
  {
   "cell_type": "code",
   "execution_count": 35,
   "metadata": {},
   "outputs": [],
   "source": [
    "import optuna"
   ]
  },
  {
   "cell_type": "code",
   "execution_count": 54,
   "metadata": {},
   "outputs": [],
   "source": [
    "def objective(trial):\n",
    "    \n",
    "    dtrain = lgb.Dataset(X_train, label=y_train)\n",
    "    dvalid = lgb.Dataset(X_test, label=y_test)\n",
    "    \n",
    "    param = {\n",
    "        \"objective\": \"binary\",\n",
    "        \"metric\": \"auc\",\n",
    "        \"verbosity\": -1,\n",
    "        \"boosting_type\": \"gbdt\",\n",
    "        \"bagging_fraction\": min(trial.suggest_float(\"bagging_fraction\", 0.4, 1.0 + 1e-12), 1),\n",
    "        \"bagging_freq\": trial.suggest_int(\"bagging_freq\", 0, 7),\n",
    "        \"min_child_samples\": trial.suggest_int(\"min_child_samples\", 5, 100),\n",
    "        'num_leaves': trial.suggest_int('num_leaves', 2, 500),\n",
    "        'learning_rate': trial.suggest_float(\"learning_rate\", 0.01, 0.15),\n",
    "        'n_jobs' : -1\n",
    "    }\n",
    "\n",
    "    # Add a callback for pruning.\n",
    "    pruning_callback = optuna.integration.LightGBMPruningCallback(trial, \"auc\")\n",
    "    model = lgb.LGBMClassifier(**param)\n",
    "    model.fit(X_train, y_train)\n",
    "    preds = lgb_clf.predict_proba(X_test)[:, 1]\n",
    "    accuracy = roc_auc_score(y_test, preds)\n",
    "    return accuracy"
   ]
  },
  {
   "cell_type": "code",
   "execution_count": 55,
   "metadata": {},
   "outputs": [
    {
     "name": "stderr",
     "output_type": "stream",
     "text": [
      "\u001b[32m[I 2021-03-31 15:52:42,715]\u001b[0m A new study created in memory with name: no-name-a079d331-a9e6-476a-8a0e-5377f20dbd3e\u001b[0m\n",
      "\u001b[32m[I 2021-03-31 15:52:45,653]\u001b[0m Trial 0 finished with value: 0.8888164897451964 and parameters: {'bagging_fraction': 0.9082907313005321, 'bagging_freq': 5, 'min_child_samples': 15, 'num_leaves': 137, 'learning_rate': 0.10182983916845427}. Best is trial 0 with value: 0.8888164897451964.\u001b[0m\n"
     ]
    },
    {
     "name": "stdout",
     "output_type": "stream",
     "text": [
      "[LightGBM] [Warning] bagging_fraction is set=0.5168209268246072, subsample=1.0 will be ignored. Current value: bagging_fraction=0.5168209268246072\n",
      "[LightGBM] [Warning] bagging_freq is set=7, subsample_freq=0 will be ignored. Current value: bagging_freq=7\n"
     ]
    },
    {
     "name": "stderr",
     "output_type": "stream",
     "text": [
      "\u001b[32m[I 2021-03-31 15:52:49,032]\u001b[0m Trial 1 finished with value: 0.8888164897451964 and parameters: {'bagging_fraction': 0.5168209268246072, 'bagging_freq': 7, 'min_child_samples': 76, 'num_leaves': 300, 'learning_rate': 0.062182837910860926}. Best is trial 0 with value: 0.8888164897451964.\u001b[0m\n"
     ]
    },
    {
     "name": "stdout",
     "output_type": "stream",
     "text": [
      "[LightGBM] [Warning] bagging_fraction is set=0.7960252019513594, subsample=1.0 will be ignored. Current value: bagging_fraction=0.7960252019513594\n",
      "[LightGBM] [Warning] bagging_freq is set=5, subsample_freq=0 will be ignored. Current value: bagging_freq=5\n"
     ]
    },
    {
     "name": "stderr",
     "output_type": "stream",
     "text": [
      "\u001b[32m[I 2021-03-31 15:52:51,789]\u001b[0m Trial 2 finished with value: 0.8888164897451964 and parameters: {'bagging_fraction': 0.7960252019513594, 'bagging_freq': 5, 'min_child_samples': 11, 'num_leaves': 113, 'learning_rate': 0.10144025288069673}. Best is trial 0 with value: 0.8888164897451964.\u001b[0m\n"
     ]
    },
    {
     "name": "stdout",
     "output_type": "stream",
     "text": [
      "[LightGBM] [Warning] bagging_fraction is set=0.41033523773108294, subsample=1.0 will be ignored. Current value: bagging_fraction=0.41033523773108294\n",
      "[LightGBM] [Warning] bagging_freq is set=1, subsample_freq=0 will be ignored. Current value: bagging_freq=1\n"
     ]
    },
    {
     "name": "stderr",
     "output_type": "stream",
     "text": [
      "\u001b[32m[I 2021-03-31 15:52:56,109]\u001b[0m Trial 3 finished with value: 0.8888164897451964 and parameters: {'bagging_fraction': 0.41033523773108294, 'bagging_freq': 1, 'min_child_samples': 38, 'num_leaves': 482, 'learning_rate': 0.11290980960531789}. Best is trial 0 with value: 0.8888164897451964.\u001b[0m\n"
     ]
    },
    {
     "name": "stdout",
     "output_type": "stream",
     "text": [
      "[LightGBM] [Warning] bagging_fraction is set=0.5143733592021186, subsample=1.0 will be ignored. Current value: bagging_fraction=0.5143733592021186\n",
      "[LightGBM] [Warning] bagging_freq is set=4, subsample_freq=0 will be ignored. Current value: bagging_freq=4\n"
     ]
    },
    {
     "name": "stderr",
     "output_type": "stream",
     "text": [
      "\u001b[32m[I 2021-03-31 15:52:57,947]\u001b[0m Trial 4 finished with value: 0.8888164897451964 and parameters: {'bagging_fraction': 0.5143733592021186, 'bagging_freq': 4, 'min_child_samples': 56, 'num_leaves': 22, 'learning_rate': 0.11460929649273469}. Best is trial 0 with value: 0.8888164897451964.\u001b[0m\n"
     ]
    },
    {
     "name": "stdout",
     "output_type": "stream",
     "text": [
      "[LightGBM] [Warning] bagging_fraction is set=0.9481963637088157, subsample=1.0 will be ignored. Current value: bagging_fraction=0.9481963637088157\n",
      "[LightGBM] [Warning] bagging_freq is set=7, subsample_freq=0 will be ignored. Current value: bagging_freq=7\n"
     ]
    },
    {
     "name": "stderr",
     "output_type": "stream",
     "text": [
      "\u001b[32m[I 2021-03-31 15:53:01,166]\u001b[0m Trial 5 finished with value: 0.8888164897451964 and parameters: {'bagging_fraction': 0.9481963637088157, 'bagging_freq': 7, 'min_child_samples': 67, 'num_leaves': 144, 'learning_rate': 0.08120314870560784}. Best is trial 0 with value: 0.8888164897451964.\u001b[0m\n"
     ]
    },
    {
     "name": "stdout",
     "output_type": "stream",
     "text": [
      "[LightGBM] [Warning] bagging_fraction is set=0.8273958107520205, subsample=1.0 will be ignored. Current value: bagging_fraction=0.8273958107520205\n",
      "[LightGBM] [Warning] bagging_freq is set=5, subsample_freq=0 will be ignored. Current value: bagging_freq=5\n"
     ]
    },
    {
     "name": "stderr",
     "output_type": "stream",
     "text": [
      "\u001b[32m[I 2021-03-31 15:53:03,962]\u001b[0m Trial 6 finished with value: 0.8888164897451964 and parameters: {'bagging_fraction': 0.8273958107520205, 'bagging_freq': 5, 'min_child_samples': 80, 'num_leaves': 134, 'learning_rate': 0.14634211029040903}. Best is trial 0 with value: 0.8888164897451964.\u001b[0m\n"
     ]
    },
    {
     "name": "stdout",
     "output_type": "stream",
     "text": [
      "[LightGBM] [Warning] bagging_fraction is set=0.8682033343321593, subsample=1.0 will be ignored. Current value: bagging_fraction=0.8682033343321593\n",
      "[LightGBM] [Warning] bagging_freq is set=6, subsample_freq=0 will be ignored. Current value: bagging_freq=6\n"
     ]
    },
    {
     "name": "stderr",
     "output_type": "stream",
     "text": [
      "\u001b[32m[I 2021-03-31 15:53:07,919]\u001b[0m Trial 7 finished with value: 0.8888164897451964 and parameters: {'bagging_fraction': 0.8682033343321593, 'bagging_freq': 6, 'min_child_samples': 72, 'num_leaves': 293, 'learning_rate': 0.08083259306238764}. Best is trial 0 with value: 0.8888164897451964.\u001b[0m\n"
     ]
    },
    {
     "name": "stdout",
     "output_type": "stream",
     "text": [
      "[LightGBM] [Warning] bagging_fraction is set=0.619082176672017, subsample=1.0 will be ignored. Current value: bagging_fraction=0.619082176672017\n",
      "[LightGBM] [Warning] bagging_freq is set=0, subsample_freq=0 will be ignored. Current value: bagging_freq=0\n"
     ]
    },
    {
     "name": "stderr",
     "output_type": "stream",
     "text": [
      "\u001b[32m[I 2021-03-31 15:53:10,331]\u001b[0m Trial 8 finished with value: 0.8888164897451964 and parameters: {'bagging_fraction': 0.619082176672017, 'bagging_freq': 0, 'min_child_samples': 28, 'num_leaves': 112, 'learning_rate': 0.11474324580544666}. Best is trial 0 with value: 0.8888164897451964.\u001b[0m\n"
     ]
    },
    {
     "name": "stdout",
     "output_type": "stream",
     "text": [
      "[LightGBM] [Warning] bagging_fraction is set=0.7244868228755246, subsample=1.0 will be ignored. Current value: bagging_fraction=0.7244868228755246\n",
      "[LightGBM] [Warning] bagging_freq is set=2, subsample_freq=0 will be ignored. Current value: bagging_freq=2\n"
     ]
    },
    {
     "name": "stderr",
     "output_type": "stream",
     "text": [
      "\u001b[32m[I 2021-03-31 15:53:13,475]\u001b[0m Trial 9 finished with value: 0.8888164897451964 and parameters: {'bagging_fraction': 0.7244868228755246, 'bagging_freq': 2, 'min_child_samples': 66, 'num_leaves': 113, 'learning_rate': 0.06485851236076587}. Best is trial 0 with value: 0.8888164897451964.\u001b[0m\n"
     ]
    },
    {
     "name": "stdout",
     "output_type": "stream",
     "text": [
      "[LightGBM] [Warning] bagging_fraction is set=0.9997803875048167, subsample=1.0 will be ignored. Current value: bagging_fraction=0.9997803875048167\n",
      "[LightGBM] [Warning] bagging_freq is set=3, subsample_freq=0 will be ignored. Current value: bagging_freq=3\n"
     ]
    },
    {
     "name": "stderr",
     "output_type": "stream",
     "text": [
      "\u001b[32m[I 2021-03-31 15:53:18,852]\u001b[0m Trial 10 finished with value: 0.8888164897451964 and parameters: {'bagging_fraction': 0.9997803875048167, 'bagging_freq': 3, 'min_child_samples': 5, 'num_leaves': 426, 'learning_rate': 0.015784992616292334}. Best is trial 0 with value: 0.8888164897451964.\u001b[0m\n"
     ]
    },
    {
     "name": "stdout",
     "output_type": "stream",
     "text": [
      "[LightGBM] [Warning] bagging_fraction is set=0.5890301736952501, subsample=1.0 will be ignored. Current value: bagging_fraction=0.5890301736952501\n",
      "[LightGBM] [Warning] bagging_freq is set=7, subsample_freq=0 will be ignored. Current value: bagging_freq=7\n"
     ]
    },
    {
     "name": "stderr",
     "output_type": "stream",
     "text": [
      "\u001b[32m[I 2021-03-31 15:53:22,533]\u001b[0m Trial 11 finished with value: 0.8888164897451964 and parameters: {'bagging_fraction': 0.5890301736952501, 'bagging_freq': 7, 'min_child_samples': 99, 'num_leaves': 307, 'learning_rate': 0.04734375090251846}. Best is trial 0 with value: 0.8888164897451964.\u001b[0m\n"
     ]
    },
    {
     "name": "stdout",
     "output_type": "stream",
     "text": [
      "[LightGBM] [Warning] bagging_fraction is set=0.4012208710519123, subsample=1.0 will be ignored. Current value: bagging_fraction=0.4012208710519123\n",
      "[LightGBM] [Warning] bagging_freq is set=6, subsample_freq=0 will be ignored. Current value: bagging_freq=6\n"
     ]
    },
    {
     "name": "stderr",
     "output_type": "stream",
     "text": [
      "\u001b[32m[I 2021-03-31 15:53:25,554]\u001b[0m Trial 12 finished with value: 0.8888164897451964 and parameters: {'bagging_fraction': 0.4012208710519123, 'bagging_freq': 6, 'min_child_samples': 92, 'num_leaves': 236, 'learning_rate': 0.03910753486127743}. Best is trial 0 with value: 0.8888164897451964.\u001b[0m\n"
     ]
    },
    {
     "name": "stdout",
     "output_type": "stream",
     "text": [
      "[LightGBM] [Warning] bagging_fraction is set=0.47888269762652486, subsample=1.0 will be ignored. Current value: bagging_fraction=0.47888269762652486\n",
      "[LightGBM] [Warning] bagging_freq is set=7, subsample_freq=0 will be ignored. Current value: bagging_freq=7\n"
     ]
    },
    {
     "name": "stderr",
     "output_type": "stream",
     "text": [
      "\u001b[32m[I 2021-03-31 15:53:29,169]\u001b[0m Trial 13 finished with value: 0.8888164897451964 and parameters: {'bagging_fraction': 0.47888269762652486, 'bagging_freq': 7, 'min_child_samples': 37, 'num_leaves': 392, 'learning_rate': 0.14701293653127867}. Best is trial 0 with value: 0.8888164897451964.\u001b[0m\n"
     ]
    },
    {
     "name": "stdout",
     "output_type": "stream",
     "text": [
      "[LightGBM] [Warning] bagging_fraction is set=0.6682004010626708, subsample=1.0 will be ignored. Current value: bagging_fraction=0.6682004010626708\n",
      "[LightGBM] [Warning] bagging_freq is set=5, subsample_freq=0 will be ignored. Current value: bagging_freq=5\n"
     ]
    },
    {
     "name": "stderr",
     "output_type": "stream",
     "text": [
      "\u001b[32m[I 2021-03-31 15:53:32,699]\u001b[0m Trial 14 finished with value: 0.8888164897451964 and parameters: {'bagging_fraction': 0.6682004010626708, 'bagging_freq': 5, 'min_child_samples': 87, 'num_leaves': 227, 'learning_rate': 0.05917438336597382}. Best is trial 0 with value: 0.8888164897451964.\u001b[0m\n"
     ]
    },
    {
     "name": "stdout",
     "output_type": "stream",
     "text": [
      "[LightGBM] [Warning] bagging_fraction is set=0.9492067408491109, subsample=1.0 will be ignored. Current value: bagging_fraction=0.9492067408491109\n",
      "[LightGBM] [Warning] bagging_freq is set=4, subsample_freq=0 will be ignored. Current value: bagging_freq=4\n"
     ]
    },
    {
     "name": "stderr",
     "output_type": "stream",
     "text": [
      "\u001b[32m[I 2021-03-31 15:53:35,389]\u001b[0m Trial 15 finished with value: 0.8888164897451964 and parameters: {'bagging_fraction': 0.9492067408491109, 'bagging_freq': 4, 'min_child_samples': 50, 'num_leaves': 35, 'learning_rate': 0.017478106613167177}. Best is trial 0 with value: 0.8888164897451964.\u001b[0m\n"
     ]
    },
    {
     "name": "stdout",
     "output_type": "stream",
     "text": [
      "[LightGBM] [Warning] bagging_fraction is set=0.7336758227949252, subsample=1.0 will be ignored. Current value: bagging_fraction=0.7336758227949252\n",
      "[LightGBM] [Warning] bagging_freq is set=6, subsample_freq=0 will be ignored. Current value: bagging_freq=6\n"
     ]
    },
    {
     "name": "stderr",
     "output_type": "stream",
     "text": [
      "\u001b[32m[I 2021-03-31 15:53:39,700]\u001b[0m Trial 16 finished with value: 0.8888164897451964 and parameters: {'bagging_fraction': 0.7336758227949252, 'bagging_freq': 6, 'min_child_samples': 19, 'num_leaves': 351, 'learning_rate': 0.09511530396425778}. Best is trial 0 with value: 0.8888164897451964.\u001b[0m\n"
     ]
    },
    {
     "name": "stdout",
     "output_type": "stream",
     "text": [
      "[LightGBM] [Warning] bagging_fraction is set=0.6597446709450893, subsample=1.0 will be ignored. Current value: bagging_fraction=0.6597446709450893\n",
      "[LightGBM] [Warning] bagging_freq is set=3, subsample_freq=0 will be ignored. Current value: bagging_freq=3\n"
     ]
    },
    {
     "name": "stderr",
     "output_type": "stream",
     "text": [
      "\u001b[32m[I 2021-03-31 15:53:43,347]\u001b[0m Trial 17 finished with value: 0.8888164897451964 and parameters: {'bagging_fraction': 0.6597446709450893, 'bagging_freq': 3, 'min_child_samples': 86, 'num_leaves': 212, 'learning_rate': 0.03754729328005073}. Best is trial 0 with value: 0.8888164897451964.\u001b[0m\n"
     ]
    },
    {
     "name": "stdout",
     "output_type": "stream",
     "text": [
      "[LightGBM] [Warning] bagging_fraction is set=0.9340716870947503, subsample=1.0 will be ignored. Current value: bagging_fraction=0.9340716870947503\n",
      "[LightGBM] [Warning] bagging_freq is set=4, subsample_freq=0 will be ignored. Current value: bagging_freq=4\n"
     ]
    },
    {
     "name": "stderr",
     "output_type": "stream",
     "text": [
      "\u001b[32m[I 2021-03-31 15:53:45,096]\u001b[0m Trial 18 finished with value: 0.8888164897451964 and parameters: {'bagging_fraction': 0.9340716870947503, 'bagging_freq': 4, 'min_child_samples': 49, 'num_leaves': 4, 'learning_rate': 0.01069581812870199}. Best is trial 0 with value: 0.8888164897451964.\u001b[0m\n"
     ]
    },
    {
     "name": "stdout",
     "output_type": "stream",
     "text": [
      "[LightGBM] [Warning] bagging_fraction is set=0.7512749925887187, subsample=1.0 will be ignored. Current value: bagging_fraction=0.7512749925887187\n",
      "[LightGBM] [Warning] bagging_freq is set=6, subsample_freq=0 will be ignored. Current value: bagging_freq=6\n"
     ]
    },
    {
     "name": "stderr",
     "output_type": "stream",
     "text": [
      "\u001b[32m[I 2021-03-31 15:53:49,008]\u001b[0m Trial 19 finished with value: 0.8888164897451964 and parameters: {'bagging_fraction': 0.7512749925887187, 'bagging_freq': 6, 'min_child_samples': 17, 'num_leaves': 357, 'learning_rate': 0.09470770972183455}. Best is trial 0 with value: 0.8888164897451964.\u001b[0m\n"
     ]
    },
    {
     "name": "stdout",
     "output_type": "stream",
     "text": [
      "[LightGBM] [Warning] bagging_fraction is set=0.6447481702502539, subsample=1.0 will be ignored. Current value: bagging_fraction=0.6447481702502539\n",
      "[LightGBM] [Warning] bagging_freq is set=2, subsample_freq=0 will be ignored. Current value: bagging_freq=2\n"
     ]
    },
    {
     "name": "stderr",
     "output_type": "stream",
     "text": [
      "\u001b[32m[I 2021-03-31 15:53:52,433]\u001b[0m Trial 20 finished with value: 0.8888164897451964 and parameters: {'bagging_fraction': 0.6447481702502539, 'bagging_freq': 2, 'min_child_samples': 99, 'num_leaves': 205, 'learning_rate': 0.1345820876075768}. Best is trial 0 with value: 0.8888164897451964.\u001b[0m\n"
     ]
    },
    {
     "name": "stdout",
     "output_type": "stream",
     "text": [
      "[LightGBM] [Warning] bagging_fraction is set=0.8956245638746023, subsample=1.0 will be ignored. Current value: bagging_fraction=0.8956245638746023\n",
      "[LightGBM] [Warning] bagging_freq is set=3, subsample_freq=0 will be ignored. Current value: bagging_freq=3\n"
     ]
    },
    {
     "name": "stderr",
     "output_type": "stream",
     "text": [
      "\u001b[32m[I 2021-03-31 15:53:56,146]\u001b[0m Trial 21 finished with value: 0.8888164897451964 and parameters: {'bagging_fraction': 0.8956245638746023, 'bagging_freq': 3, 'min_child_samples': 50, 'num_leaves': 182, 'learning_rate': 0.03143356337637386}. Best is trial 0 with value: 0.8888164897451964.\u001b[0m\n"
     ]
    },
    {
     "name": "stdout",
     "output_type": "stream",
     "text": [
      "[LightGBM] [Warning] bagging_fraction is set=0.7887436331276566, subsample=1.0 will be ignored. Current value: bagging_fraction=0.7887436331276566\n",
      "[LightGBM] [Warning] bagging_freq is set=5, subsample_freq=0 will be ignored. Current value: bagging_freq=5\n"
     ]
    },
    {
     "name": "stderr",
     "output_type": "stream",
     "text": [
      "\u001b[32m[I 2021-03-31 15:53:58,504]\u001b[0m Trial 22 finished with value: 0.8888164897451964 and parameters: {'bagging_fraction': 0.7887436331276566, 'bagging_freq': 5, 'min_child_samples': 23, 'num_leaves': 57, 'learning_rate': 0.10112850360889984}. Best is trial 0 with value: 0.8888164897451964.\u001b[0m\n"
     ]
    },
    {
     "name": "stdout",
     "output_type": "stream",
     "text": [
      "[LightGBM] [Warning] bagging_fraction is set=0.5949841837382887, subsample=1.0 will be ignored. Current value: bagging_fraction=0.5949841837382887\n",
      "[LightGBM] [Warning] bagging_freq is set=2, subsample_freq=0 will be ignored. Current value: bagging_freq=2\n"
     ]
    },
    {
     "name": "stderr",
     "output_type": "stream",
     "text": [
      "\u001b[32m[I 2021-03-31 15:54:01,591]\u001b[0m Trial 23 finished with value: 0.8888164897451964 and parameters: {'bagging_fraction': 0.5949841837382887, 'bagging_freq': 2, 'min_child_samples': 7, 'num_leaves': 176, 'learning_rate': 0.13177261545768837}. Best is trial 0 with value: 0.8888164897451964.\u001b[0m\n"
     ]
    },
    {
     "name": "stdout",
     "output_type": "stream",
     "text": [
      "[LightGBM] [Warning] bagging_fraction is set=0.8756717426008614, subsample=1.0 will be ignored. Current value: bagging_fraction=0.8756717426008614\n",
      "[LightGBM] [Warning] bagging_freq is set=2, subsample_freq=0 will be ignored. Current value: bagging_freq=2\n"
     ]
    },
    {
     "name": "stderr",
     "output_type": "stream",
     "text": [
      "\u001b[32m[I 2021-03-31 15:54:05,067]\u001b[0m Trial 24 finished with value: 0.8888164897451964 and parameters: {'bagging_fraction': 0.8756717426008614, 'bagging_freq': 2, 'min_child_samples': 39, 'num_leaves': 186, 'learning_rate': 0.12769418696882734}. Best is trial 0 with value: 0.8888164897451964.\u001b[0m\n"
     ]
    },
    {
     "name": "stdout",
     "output_type": "stream",
     "text": [
      "[LightGBM] [Warning] bagging_fraction is set=0.8847024841269227, subsample=1.0 will be ignored. Current value: bagging_fraction=0.8847024841269227\n",
      "[LightGBM] [Warning] bagging_freq is set=5, subsample_freq=0 will be ignored. Current value: bagging_freq=5\n"
     ]
    },
    {
     "name": "stderr",
     "output_type": "stream",
     "text": [
      "\u001b[32m[I 2021-03-31 15:54:07,642]\u001b[0m Trial 25 finished with value: 0.8888164897451964 and parameters: {'bagging_fraction': 0.8847024841269227, 'bagging_freq': 5, 'min_child_samples': 24, 'num_leaves': 52, 'learning_rate': 0.10466616799653394}. Best is trial 0 with value: 0.8888164897451964.\u001b[0m\n"
     ]
    },
    {
     "name": "stdout",
     "output_type": "stream",
     "text": [
      "[LightGBM] [Warning] bagging_fraction is set=0.7873979100900539, subsample=1.0 will be ignored. Current value: bagging_fraction=0.7873979100900539\n",
      "[LightGBM] [Warning] bagging_freq is set=1, subsample_freq=0 will be ignored. Current value: bagging_freq=1\n"
     ]
    },
    {
     "name": "stderr",
     "output_type": "stream",
     "text": [
      "\u001b[32m[I 2021-03-31 15:54:09,679]\u001b[0m Trial 26 finished with value: 0.8888164897451964 and parameters: {'bagging_fraction': 0.7873979100900539, 'bagging_freq': 1, 'min_child_samples': 12, 'num_leaves': 60, 'learning_rate': 0.13025421165389098}. Best is trial 0 with value: 0.8888164897451964.\u001b[0m\n"
     ]
    },
    {
     "name": "stdout",
     "output_type": "stream",
     "text": [
      "[LightGBM] [Warning] bagging_fraction is set=0.5572558063614955, subsample=1.0 will be ignored. Current value: bagging_fraction=0.5572558063614955\n",
      "[LightGBM] [Warning] bagging_freq is set=2, subsample_freq=0 will be ignored. Current value: bagging_freq=2\n"
     ]
    },
    {
     "name": "stderr",
     "output_type": "stream",
     "text": [
      "\u001b[32m[I 2021-03-31 15:54:12,950]\u001b[0m Trial 27 finished with value: 0.8888164897451964 and parameters: {'bagging_fraction': 0.5572558063614955, 'bagging_freq': 2, 'min_child_samples': 5, 'num_leaves': 261, 'learning_rate': 0.13033529819141187}. Best is trial 0 with value: 0.8888164897451964.\u001b[0m\n"
     ]
    },
    {
     "name": "stdout",
     "output_type": "stream",
     "text": [
      "[LightGBM] [Warning] bagging_fraction is set=0.9958004977497938, subsample=1.0 will be ignored. Current value: bagging_fraction=0.9958004977497938\n",
      "[LightGBM] [Warning] bagging_freq is set=1, subsample_freq=0 will be ignored. Current value: bagging_freq=1\n"
     ]
    },
    {
     "name": "stderr",
     "output_type": "stream",
     "text": [
      "\u001b[32m[I 2021-03-31 15:54:15,128]\u001b[0m Trial 28 finished with value: 0.8888164897451964 and parameters: {'bagging_fraction': 0.9958004977497938, 'bagging_freq': 1, 'min_child_samples': 35, 'num_leaves': 72, 'learning_rate': 0.12003546577160815}. Best is trial 0 with value: 0.8888164897451964.\u001b[0m\n"
     ]
    },
    {
     "name": "stdout",
     "output_type": "stream",
     "text": [
      "[LightGBM] [Warning] bagging_fraction is set=0.8593411267632517, subsample=1.0 will be ignored. Current value: bagging_fraction=0.8593411267632517\n",
      "[LightGBM] [Warning] bagging_freq is set=4, subsample_freq=0 will be ignored. Current value: bagging_freq=4\n"
     ]
    },
    {
     "name": "stderr",
     "output_type": "stream",
     "text": [
      "\u001b[32m[I 2021-03-31 15:54:17,707]\u001b[0m Trial 29 finished with value: 0.8888164897451964 and parameters: {'bagging_fraction': 0.8593411267632517, 'bagging_freq': 4, 'min_child_samples': 13, 'num_leaves': 73, 'learning_rate': 0.09122841958402382}. Best is trial 0 with value: 0.8888164897451964.\u001b[0m\n"
     ]
    },
    {
     "name": "stdout",
     "output_type": "stream",
     "text": [
      "[LightGBM] [Warning] bagging_fraction is set=0.4614206189931003, subsample=1.0 will be ignored. Current value: bagging_fraction=0.4614206189931003\n",
      "[LightGBM] [Warning] bagging_freq is set=0, subsample_freq=0 will be ignored. Current value: bagging_freq=0\n"
     ]
    },
    {
     "name": "stderr",
     "output_type": "stream",
     "text": [
      "\u001b[32m[I 2021-03-31 15:54:20,614]\u001b[0m Trial 30 finished with value: 0.8888164897451964 and parameters: {'bagging_fraction': 0.4614206189931003, 'bagging_freq': 0, 'min_child_samples': 8, 'num_leaves': 254, 'learning_rate': 0.13556783763900004}. Best is trial 0 with value: 0.8888164897451964.\u001b[0m\n"
     ]
    },
    {
     "name": "stdout",
     "output_type": "stream",
     "text": [
      "[LightGBM] [Warning] bagging_fraction is set=0.9946566035330354, subsample=1.0 will be ignored. Current value: bagging_fraction=0.9946566035330354\n",
      "[LightGBM] [Warning] bagging_freq is set=1, subsample_freq=0 will be ignored. Current value: bagging_freq=1\n"
     ]
    },
    {
     "name": "stderr",
     "output_type": "stream",
     "text": [
      "\u001b[32m[I 2021-03-31 15:54:22,808]\u001b[0m Trial 31 finished with value: 0.8888164897451964 and parameters: {'bagging_fraction': 0.9946566035330354, 'bagging_freq': 1, 'min_child_samples': 31, 'num_leaves': 78, 'learning_rate': 0.12243763444151465}. Best is trial 0 with value: 0.8888164897451964.\u001b[0m\n"
     ]
    },
    {
     "name": "stdout",
     "output_type": "stream",
     "text": [
      "[LightGBM] [Warning] bagging_fraction is set=0.9926800239473272, subsample=1.0 will be ignored. Current value: bagging_fraction=0.9926800239473272\n",
      "[LightGBM] [Warning] bagging_freq is set=1, subsample_freq=0 will be ignored. Current value: bagging_freq=1\n"
     ]
    },
    {
     "name": "stderr",
     "output_type": "stream",
     "text": [
      "\u001b[32m[I 2021-03-31 15:54:25,217]\u001b[0m Trial 32 finished with value: 0.8888164897451964 and parameters: {'bagging_fraction': 0.9926800239473272, 'bagging_freq': 1, 'min_child_samples': 15, 'num_leaves': 95, 'learning_rate': 0.08584119897865834}. Best is trial 0 with value: 0.8888164897451964.\u001b[0m\n"
     ]
    },
    {
     "name": "stdout",
     "output_type": "stream",
     "text": [
      "[LightGBM] [Warning] bagging_fraction is set=0.9289110238459122, subsample=1.0 will be ignored. Current value: bagging_fraction=0.9289110238459122\n",
      "[LightGBM] [Warning] bagging_freq is set=0, subsample_freq=0 will be ignored. Current value: bagging_freq=0\n"
     ]
    },
    {
     "name": "stderr",
     "output_type": "stream",
     "text": [
      "\u001b[32m[I 2021-03-31 15:54:28,059]\u001b[0m Trial 33 finished with value: 0.8888164897451964 and parameters: {'bagging_fraction': 0.9289110238459122, 'bagging_freq': 0, 'min_child_samples': 32, 'num_leaves': 151, 'learning_rate': 0.07228237698574858}. Best is trial 0 with value: 0.8888164897451964.\u001b[0m\n"
     ]
    },
    {
     "name": "stdout",
     "output_type": "stream",
     "text": [
      "[LightGBM] [Warning] bagging_fraction is set=0.8553430341411599, subsample=1.0 will be ignored. Current value: bagging_fraction=0.8553430341411599\n",
      "[LightGBM] [Warning] bagging_freq is set=0, subsample_freq=0 will be ignored. Current value: bagging_freq=0\n"
     ]
    },
    {
     "name": "stderr",
     "output_type": "stream",
     "text": [
      "\u001b[32m[I 2021-03-31 15:54:31,115]\u001b[0m Trial 34 finished with value: 0.8888164897451964 and parameters: {'bagging_fraction': 0.8553430341411599, 'bagging_freq': 0, 'min_child_samples': 10, 'num_leaves': 278, 'learning_rate': 0.12058551481681579}. Best is trial 0 with value: 0.8888164897451964.\u001b[0m\n"
     ]
    },
    {
     "name": "stdout",
     "output_type": "stream",
     "text": [
      "[LightGBM] [Warning] bagging_fraction is set=0.7559430218229417, subsample=1.0 will be ignored. Current value: bagging_fraction=0.7559430218229417\n",
      "[LightGBM] [Warning] bagging_freq is set=3, subsample_freq=0 will be ignored. Current value: bagging_freq=3\n"
     ]
    },
    {
     "name": "stderr",
     "output_type": "stream",
     "text": [
      "\u001b[32m[I 2021-03-31 15:54:34,307]\u001b[0m Trial 35 finished with value: 0.8888164897451964 and parameters: {'bagging_fraction': 0.7559430218229417, 'bagging_freq': 3, 'min_child_samples': 44, 'num_leaves': 194, 'learning_rate': 0.10885967690677517}. Best is trial 0 with value: 0.8888164897451964.\u001b[0m\n"
     ]
    },
    {
     "name": "stdout",
     "output_type": "stream",
     "text": [
      "[LightGBM] [Warning] bagging_fraction is set=0.798236399835459, subsample=1.0 will be ignored. Current value: bagging_fraction=0.798236399835459\n",
      "[LightGBM] [Warning] bagging_freq is set=5, subsample_freq=0 will be ignored. Current value: bagging_freq=5\n"
     ]
    },
    {
     "name": "stderr",
     "output_type": "stream",
     "text": [
      "\u001b[32m[I 2021-03-31 15:54:37,549]\u001b[0m Trial 36 finished with value: 0.8888164897451964 and parameters: {'bagging_fraction': 0.798236399835459, 'bagging_freq': 5, 'min_child_samples': 62, 'num_leaves': 162, 'learning_rate': 0.10095254487415883}. Best is trial 0 with value: 0.8888164897451964.\u001b[0m\n"
     ]
    },
    {
     "name": "stdout",
     "output_type": "stream",
     "text": [
      "[LightGBM] [Warning] bagging_fraction is set=0.905536714582058, subsample=1.0 will be ignored. Current value: bagging_fraction=0.905536714582058\n",
      "[LightGBM] [Warning] bagging_freq is set=3, subsample_freq=0 will be ignored. Current value: bagging_freq=3\n"
     ]
    },
    {
     "name": "stderr",
     "output_type": "stream",
     "text": [
      "\u001b[32m[I 2021-03-31 15:54:40,453]\u001b[0m Trial 37 finished with value: 0.8888164897451964 and parameters: {'bagging_fraction': 0.905536714582058, 'bagging_freq': 3, 'min_child_samples': 23, 'num_leaves': 132, 'learning_rate': 0.14074138004218914}. Best is trial 0 with value: 0.8888164897451964.\u001b[0m\n"
     ]
    },
    {
     "name": "stdout",
     "output_type": "stream",
     "text": [
      "[LightGBM] [Warning] bagging_fraction is set=0.7960160970986044, subsample=1.0 will be ignored. Current value: bagging_fraction=0.7960160970986044\n",
      "[LightGBM] [Warning] bagging_freq is set=4, subsample_freq=0 will be ignored. Current value: bagging_freq=4\n"
     ]
    },
    {
     "name": "stderr",
     "output_type": "stream",
     "text": [
      "\u001b[32m[I 2021-03-31 15:54:43,754]\u001b[0m Trial 38 finished with value: 0.8888164897451964 and parameters: {'bagging_fraction': 0.7960160970986044, 'bagging_freq': 4, 'min_child_samples': 57, 'num_leaves': 170, 'learning_rate': 0.07521553893117085}. Best is trial 0 with value: 0.8888164897451964.\u001b[0m\n"
     ]
    },
    {
     "name": "stdout",
     "output_type": "stream",
     "text": [
      "[LightGBM] [Warning] bagging_fraction is set=0.6873048138711643, subsample=1.0 will be ignored. Current value: bagging_fraction=0.6873048138711643\n",
      "[LightGBM] [Warning] bagging_freq is set=5, subsample_freq=0 will be ignored. Current value: bagging_freq=5\n"
     ]
    },
    {
     "name": "stderr",
     "output_type": "stream",
     "text": [
      "\u001b[32m[I 2021-03-31 15:54:45,453]\u001b[0m Trial 39 finished with value: 0.8888164897451964 and parameters: {'bagging_fraction': 0.6873048138711643, 'bagging_freq': 5, 'min_child_samples': 24, 'num_leaves': 8, 'learning_rate': 0.10316910993446556}. Best is trial 0 with value: 0.8888164897451964.\u001b[0m\n"
     ]
    },
    {
     "name": "stdout",
     "output_type": "stream",
     "text": [
      "[LightGBM] [Warning] bagging_fraction is set=0.8271030475378376, subsample=1.0 will be ignored. Current value: bagging_fraction=0.8271030475378376\n",
      "[LightGBM] [Warning] bagging_freq is set=2, subsample_freq=0 will be ignored. Current value: bagging_freq=2\n"
     ]
    },
    {
     "name": "stderr",
     "output_type": "stream",
     "text": [
      "\u001b[32m[I 2021-03-31 15:54:48,423]\u001b[0m Trial 40 finished with value: 0.8888164897451964 and parameters: {'bagging_fraction': 0.8271030475378376, 'bagging_freq': 2, 'min_child_samples': 44, 'num_leaves': 119, 'learning_rate': 0.12555850099077864}. Best is trial 0 with value: 0.8888164897451964.\u001b[0m\n"
     ]
    },
    {
     "name": "stdout",
     "output_type": "stream",
     "text": [
      "[LightGBM] [Warning] bagging_fraction is set=0.896529887653825, subsample=1.0 will be ignored. Current value: bagging_fraction=0.896529887653825\n",
      "[LightGBM] [Warning] bagging_freq is set=5, subsample_freq=0 will be ignored. Current value: bagging_freq=5\n"
     ]
    },
    {
     "name": "stderr",
     "output_type": "stream",
     "text": [
      "\u001b[32m[I 2021-03-31 15:54:50,773]\u001b[0m Trial 41 finished with value: 0.8888164897451964 and parameters: {'bagging_fraction': 0.896529887653825, 'bagging_freq': 5, 'min_child_samples': 24, 'num_leaves': 45, 'learning_rate': 0.10879011183693035}. Best is trial 0 with value: 0.8888164897451964.\u001b[0m\n"
     ]
    },
    {
     "name": "stdout",
     "output_type": "stream",
     "text": [
      "[LightGBM] [Warning] bagging_fraction is set=0.8376672941862288, subsample=1.0 will be ignored. Current value: bagging_fraction=0.8376672941862288\n",
      "[LightGBM] [Warning] bagging_freq is set=1, subsample_freq=0 will be ignored. Current value: bagging_freq=1\n"
     ]
    },
    {
     "name": "stderr",
     "output_type": "stream",
     "text": [
      "\u001b[32m[I 2021-03-31 15:54:53,162]\u001b[0m Trial 42 finished with value: 0.8888164897451964 and parameters: {'bagging_fraction': 0.8376672941862288, 'bagging_freq': 1, 'min_child_samples': 10, 'num_leaves': 99, 'learning_rate': 0.12844163820837412}. Best is trial 0 with value: 0.8888164897451964.\u001b[0m\n"
     ]
    },
    {
     "name": "stdout",
     "output_type": "stream",
     "text": [
      "[LightGBM] [Warning] bagging_fraction is set=0.9613184496957068, subsample=1.0 will be ignored. Current value: bagging_fraction=0.9613184496957068\n",
      "[LightGBM] [Warning] bagging_freq is set=2, subsample_freq=0 will be ignored. Current value: bagging_freq=2\n"
     ]
    },
    {
     "name": "stderr",
     "output_type": "stream",
     "text": [
      "\u001b[32m[I 2021-03-31 15:54:56,407]\u001b[0m Trial 43 finished with value: 0.8888164897451964 and parameters: {'bagging_fraction': 0.9613184496957068, 'bagging_freq': 2, 'min_child_samples': 28, 'num_leaves': 146, 'learning_rate': 0.14367615284925783}. Best is trial 0 with value: 0.8888164897451964.\u001b[0m\n"
     ]
    },
    {
     "name": "stdout",
     "output_type": "stream",
     "text": [
      "[LightGBM] [Warning] bagging_fraction is set=0.8800731111538964, subsample=1.0 will be ignored. Current value: bagging_fraction=0.8800731111538964\n",
      "[LightGBM] [Warning] bagging_freq is set=2, subsample_freq=0 will be ignored. Current value: bagging_freq=2\n"
     ]
    },
    {
     "name": "stderr",
     "output_type": "stream",
     "text": [
      "\u001b[32m[I 2021-03-31 15:55:00,160]\u001b[0m Trial 44 finished with value: 0.8888164897451964 and parameters: {'bagging_fraction': 0.8800731111538964, 'bagging_freq': 2, 'min_child_samples': 18, 'num_leaves': 246, 'learning_rate': 0.11638549665591734}. Best is trial 0 with value: 0.8888164897451964.\u001b[0m\n"
     ]
    },
    {
     "name": "stdout",
     "output_type": "stream",
     "text": [
      "[LightGBM] [Warning] bagging_fraction is set=0.5226066855227373, subsample=1.0 will be ignored. Current value: bagging_fraction=0.5226066855227373\n",
      "[LightGBM] [Warning] bagging_freq is set=1, subsample_freq=0 will be ignored. Current value: bagging_freq=1\n"
     ]
    },
    {
     "name": "stderr",
     "output_type": "stream",
     "text": [
      "\u001b[32m[I 2021-03-31 15:55:03,180]\u001b[0m Trial 45 finished with value: 0.8888164897451964 and parameters: {'bagging_fraction': 0.5226066855227373, 'bagging_freq': 1, 'min_child_samples': 5, 'num_leaves': 272, 'learning_rate': 0.1387107992894167}. Best is trial 0 with value: 0.8888164897451964.\u001b[0m\n"
     ]
    },
    {
     "name": "stdout",
     "output_type": "stream",
     "text": [
      "[LightGBM] [Warning] bagging_fraction is set=0.5328468730396981, subsample=1.0 will be ignored. Current value: bagging_fraction=0.5328468730396981\n",
      "[LightGBM] [Warning] bagging_freq is set=1, subsample_freq=0 will be ignored. Current value: bagging_freq=1\n"
     ]
    },
    {
     "name": "stderr",
     "output_type": "stream",
     "text": [
      "\u001b[32m[I 2021-03-31 15:55:04,947]\u001b[0m Trial 46 finished with value: 0.8888164897451964 and parameters: {'bagging_fraction': 0.5328468730396981, 'bagging_freq': 1, 'min_child_samples': 34, 'num_leaves': 25, 'learning_rate': 0.11785432246522712}. Best is trial 0 with value: 0.8888164897451964.\u001b[0m\n"
     ]
    },
    {
     "name": "stdout",
     "output_type": "stream",
     "text": [
      "[LightGBM] [Warning] bagging_fraction is set=0.8268074857367648, subsample=1.0 will be ignored. Current value: bagging_fraction=0.8268074857367648\n",
      "[LightGBM] [Warning] bagging_freq is set=1, subsample_freq=0 will be ignored. Current value: bagging_freq=1\n"
     ]
    },
    {
     "name": "stderr",
     "output_type": "stream",
     "text": [
      "\u001b[32m[I 2021-03-31 15:55:07,143]\u001b[0m Trial 47 finished with value: 0.8888164897451964 and parameters: {'bagging_fraction': 0.8268074857367648, 'bagging_freq': 1, 'min_child_samples': 28, 'num_leaves': 62, 'learning_rate': 0.10805933529397443}. Best is trial 0 with value: 0.8888164897451964.\u001b[0m\n"
     ]
    },
    {
     "name": "stdout",
     "output_type": "stream",
     "text": [
      "[LightGBM] [Warning] bagging_fraction is set=0.9742997636151155, subsample=1.0 will be ignored. Current value: bagging_fraction=0.9742997636151155\n",
      "[LightGBM] [Warning] bagging_freq is set=4, subsample_freq=0 will be ignored. Current value: bagging_freq=4\n"
     ]
    },
    {
     "name": "stderr",
     "output_type": "stream",
     "text": [
      "\u001b[32m[I 2021-03-31 15:55:10,004]\u001b[0m Trial 48 finished with value: 0.8888164897451964 and parameters: {'bagging_fraction': 0.9742997636151155, 'bagging_freq': 4, 'min_child_samples': 14, 'num_leaves': 78, 'learning_rate': 0.08849883108998884}. Best is trial 0 with value: 0.8888164897451964.\u001b[0m\n"
     ]
    },
    {
     "name": "stdout",
     "output_type": "stream",
     "text": [
      "[LightGBM] [Warning] bagging_fraction is set=0.9199008930244219, subsample=1.0 will be ignored. Current value: bagging_fraction=0.9199008930244219\n",
      "[LightGBM] [Warning] bagging_freq is set=4, subsample_freq=0 will be ignored. Current value: bagging_freq=4\n"
     ]
    },
    {
     "name": "stderr",
     "output_type": "stream",
     "text": [
      "\u001b[32m[I 2021-03-31 15:55:13,905]\u001b[0m Trial 49 finished with value: 0.8888164897451964 and parameters: {'bagging_fraction': 0.9199008930244219, 'bagging_freq': 4, 'min_child_samples': 12, 'num_leaves': 315, 'learning_rate': 0.09218588154679472}. Best is trial 0 with value: 0.8888164897451964.\u001b[0m\n"
     ]
    },
    {
     "name": "stdout",
     "output_type": "stream",
     "text": [
      "[LightGBM] [Warning] bagging_fraction is set=0.45114307977254675, subsample=1.0 will be ignored. Current value: bagging_fraction=0.45114307977254675\n",
      "[LightGBM] [Warning] bagging_freq is set=0, subsample_freq=0 will be ignored. Current value: bagging_freq=0\n"
     ]
    },
    {
     "name": "stderr",
     "output_type": "stream",
     "text": [
      "\u001b[32m[I 2021-03-31 15:55:16,825]\u001b[0m Trial 50 finished with value: 0.8888164897451964 and parameters: {'bagging_fraction': 0.45114307977254675, 'bagging_freq': 0, 'min_child_samples': 5, 'num_leaves': 259, 'learning_rate': 0.14899932898266352}. Best is trial 0 with value: 0.8888164897451964.\u001b[0m\n"
     ]
    },
    {
     "name": "stdout",
     "output_type": "stream",
     "text": [
      "[LightGBM] [Warning] bagging_fraction is set=0.43487868267539853, subsample=1.0 will be ignored. Current value: bagging_fraction=0.43487868267539853\n",
      "[LightGBM] [Warning] bagging_freq is set=0, subsample_freq=0 will be ignored. Current value: bagging_freq=0\n"
     ]
    },
    {
     "name": "stderr",
     "output_type": "stream",
     "text": [
      "\u001b[32m[I 2021-03-31 15:55:19,043]\u001b[0m Trial 51 finished with value: 0.8888164897451964 and parameters: {'bagging_fraction': 0.43487868267539853, 'bagging_freq': 0, 'min_child_samples': 7, 'num_leaves': 82, 'learning_rate': 0.1220642199381244}. Best is trial 0 with value: 0.8888164897451964.\u001b[0m\n"
     ]
    },
    {
     "name": "stdout",
     "output_type": "stream",
     "text": [
      "[LightGBM] [Warning] bagging_fraction is set=0.9911734676893154, subsample=1.0 will be ignored. Current value: bagging_fraction=0.9911734676893154\n",
      "[LightGBM] [Warning] bagging_freq is set=1, subsample_freq=0 will be ignored. Current value: bagging_freq=1\n"
     ]
    },
    {
     "name": "stderr",
     "output_type": "stream",
     "text": [
      "\u001b[32m[I 2021-03-31 15:55:21,439]\u001b[0m Trial 52 finished with value: 0.8888164897451964 and parameters: {'bagging_fraction': 0.9911734676893154, 'bagging_freq': 1, 'min_child_samples': 17, 'num_leaves': 82, 'learning_rate': 0.08572219735883732}. Best is trial 0 with value: 0.8888164897451964.\u001b[0m\n"
     ]
    },
    {
     "name": "stdout",
     "output_type": "stream",
     "text": [
      "[LightGBM] [Warning] bagging_fraction is set=0.9998778180886572, subsample=1.0 will be ignored. Current value: bagging_fraction=0.9998778180886572\n",
      "[LightGBM] [Warning] bagging_freq is set=0, subsample_freq=0 will be ignored. Current value: bagging_freq=0\n"
     ]
    },
    {
     "name": "stderr",
     "output_type": "stream",
     "text": [
      "\u001b[32m[I 2021-03-31 15:55:23,894]\u001b[0m Trial 53 finished with value: 0.8888164897451964 and parameters: {'bagging_fraction': 0.9998778180886572, 'bagging_freq': 0, 'min_child_samples': 15, 'num_leaves': 99, 'learning_rate': 0.08680080171937987}. Best is trial 0 with value: 0.8888164897451964.\u001b[0m\n"
     ]
    },
    {
     "name": "stdout",
     "output_type": "stream",
     "text": [
      "[LightGBM] [Warning] bagging_fraction is set=0.9311284220545174, subsample=1.0 will be ignored. Current value: bagging_fraction=0.9311284220545174\n",
      "[LightGBM] [Warning] bagging_freq is set=0, subsample_freq=0 will be ignored. Current value: bagging_freq=0\n"
     ]
    },
    {
     "name": "stderr",
     "output_type": "stream",
     "text": [
      "\u001b[32m[I 2021-03-31 15:55:26,586]\u001b[0m Trial 54 finished with value: 0.8888164897451964 and parameters: {'bagging_fraction': 0.9311284220545174, 'bagging_freq': 0, 'min_child_samples': 32, 'num_leaves': 137, 'learning_rate': 0.07454754468104788}. Best is trial 0 with value: 0.8888164897451964.\u001b[0m\n"
     ]
    },
    {
     "name": "stdout",
     "output_type": "stream",
     "text": [
      "[LightGBM] [Warning] bagging_fraction is set=0.9614301494610927, subsample=1.0 will be ignored. Current value: bagging_fraction=0.9614301494610927\n",
      "[LightGBM] [Warning] bagging_freq is set=0, subsample_freq=0 will be ignored. Current value: bagging_freq=0\n"
     ]
    },
    {
     "name": "stderr",
     "output_type": "stream",
     "text": [
      "\u001b[32m[I 2021-03-31 15:55:29,930]\u001b[0m Trial 55 finished with value: 0.8888164897451964 and parameters: {'bagging_fraction': 0.9614301494610927, 'bagging_freq': 0, 'min_child_samples': 29, 'num_leaves': 222, 'learning_rate': 0.06434402432858091}. Best is trial 0 with value: 0.8888164897451964.\u001b[0m\n"
     ]
    },
    {
     "name": "stdout",
     "output_type": "stream",
     "text": [
      "[LightGBM] [Warning] bagging_fraction is set=0.9430849773317201, subsample=1.0 will be ignored. Current value: bagging_fraction=0.9430849773317201\n",
      "[LightGBM] [Warning] bagging_freq is set=0, subsample_freq=0 will be ignored. Current value: bagging_freq=0\n"
     ]
    },
    {
     "name": "stderr",
     "output_type": "stream",
     "text": [
      "\u001b[32m[I 2021-03-31 15:55:33,561]\u001b[0m Trial 56 finished with value: 0.8888164897451964 and parameters: {'bagging_fraction': 0.9430849773317201, 'bagging_freq': 0, 'min_child_samples': 9, 'num_leaves': 292, 'learning_rate': 0.057344004720769004}. Best is trial 0 with value: 0.8888164897451964.\u001b[0m\n"
     ]
    },
    {
     "name": "stdout",
     "output_type": "stream",
     "text": [
      "[LightGBM] [Warning] bagging_fraction is set=0.9720241686890438, subsample=1.0 will be ignored. Current value: bagging_fraction=0.9720241686890438\n",
      "[LightGBM] [Warning] bagging_freq is set=0, subsample_freq=0 will be ignored. Current value: bagging_freq=0\n"
     ]
    },
    {
     "name": "stderr",
     "output_type": "stream",
     "text": [
      "\u001b[32m[I 2021-03-31 15:55:38,052]\u001b[0m Trial 57 finished with value: 0.8888164897451964 and parameters: {'bagging_fraction': 0.9720241686890438, 'bagging_freq': 0, 'min_child_samples': 21, 'num_leaves': 495, 'learning_rate': 0.07180530538706426}. Best is trial 0 with value: 0.8888164897451964.\u001b[0m\n"
     ]
    },
    {
     "name": "stdout",
     "output_type": "stream",
     "text": [
      "[LightGBM] [Warning] bagging_fraction is set=0.916642784122974, subsample=1.0 will be ignored. Current value: bagging_fraction=0.916642784122974\n",
      "[LightGBM] [Warning] bagging_freq is set=3, subsample_freq=0 will be ignored. Current value: bagging_freq=3\n"
     ]
    },
    {
     "name": "stderr",
     "output_type": "stream",
     "text": [
      "\u001b[32m[I 2021-03-31 15:55:41,607]\u001b[0m Trial 58 finished with value: 0.8888164897451964 and parameters: {'bagging_fraction': 0.916642784122974, 'bagging_freq': 3, 'min_child_samples': 40, 'num_leaves': 201, 'learning_rate': 0.11159151792599452}. Best is trial 0 with value: 0.8888164897451964.\u001b[0m\n"
     ]
    },
    {
     "name": "stdout",
     "output_type": "stream",
     "text": [
      "[LightGBM] [Warning] bagging_fraction is set=0.8525716529608641, subsample=1.0 will be ignored. Current value: bagging_fraction=0.8525716529608641\n",
      "[LightGBM] [Warning] bagging_freq is set=1, subsample_freq=0 will be ignored. Current value: bagging_freq=1\n"
     ]
    },
    {
     "name": "stderr",
     "output_type": "stream",
     "text": [
      "\u001b[32m[I 2021-03-31 15:55:44,319]\u001b[0m Trial 59 finished with value: 0.8888164897451964 and parameters: {'bagging_fraction': 0.8525716529608641, 'bagging_freq': 1, 'min_child_samples': 44, 'num_leaves': 146, 'learning_rate': 0.09723848766726378}. Best is trial 0 with value: 0.8888164897451964.\u001b[0m\n"
     ]
    },
    {
     "name": "stdout",
     "output_type": "stream",
     "text": [
      "[LightGBM] [Warning] bagging_fraction is set=0.7646045813242482, subsample=1.0 will be ignored. Current value: bagging_fraction=0.7646045813242482\n",
      "[LightGBM] [Warning] bagging_freq is set=5, subsample_freq=0 will be ignored. Current value: bagging_freq=5\n"
     ]
    },
    {
     "name": "stderr",
     "output_type": "stream",
     "text": [
      "\u001b[32m[I 2021-03-31 15:55:47,407]\u001b[0m Trial 60 finished with value: 0.8888164897451964 and parameters: {'bagging_fraction': 0.7646045813242482, 'bagging_freq': 5, 'min_child_samples': 63, 'num_leaves': 158, 'learning_rate': 0.08127268787987846}. Best is trial 0 with value: 0.8888164897451964.\u001b[0m\n"
     ]
    },
    {
     "name": "stdout",
     "output_type": "stream",
     "text": [
      "[LightGBM] [Warning] bagging_fraction is set=0.8132317883186084, subsample=1.0 will be ignored. Current value: bagging_fraction=0.8132317883186084\n",
      "[LightGBM] [Warning] bagging_freq is set=3, subsample_freq=0 will be ignored. Current value: bagging_freq=3\n"
     ]
    },
    {
     "name": "stderr",
     "output_type": "stream",
     "text": [
      "\u001b[32m[I 2021-03-31 15:55:50,385]\u001b[0m Trial 61 finished with value: 0.8888164897451964 and parameters: {'bagging_fraction': 0.8132317883186084, 'bagging_freq': 3, 'min_child_samples': 72, 'num_leaves': 127, 'learning_rate': 0.1011847068366461}. Best is trial 0 with value: 0.8888164897451964.\u001b[0m\n"
     ]
    },
    {
     "name": "stdout",
     "output_type": "stream",
     "text": [
      "[LightGBM] [Warning] bagging_fraction is set=0.7555961473196641, subsample=1.0 will be ignored. Current value: bagging_fraction=0.7555961473196641\n",
      "[LightGBM] [Warning] bagging_freq is set=6, subsample_freq=0 will be ignored. Current value: bagging_freq=6\n"
     ]
    },
    {
     "name": "stderr",
     "output_type": "stream",
     "text": [
      "\u001b[32m[I 2021-03-31 15:55:53,573]\u001b[0m Trial 62 finished with value: 0.8888164897451964 and parameters: {'bagging_fraction': 0.7555961473196641, 'bagging_freq': 6, 'min_child_samples': 61, 'num_leaves': 171, 'learning_rate': 0.07122921689246181}. Best is trial 0 with value: 0.8888164897451964.\u001b[0m\n"
     ]
    },
    {
     "name": "stdout",
     "output_type": "stream",
     "text": [
      "[LightGBM] [Warning] bagging_fraction is set=0.7277463723749618, subsample=1.0 will be ignored. Current value: bagging_fraction=0.7277463723749618\n",
      "[LightGBM] [Warning] bagging_freq is set=6, subsample_freq=0 will be ignored. Current value: bagging_freq=6\n"
     ]
    },
    {
     "name": "stderr",
     "output_type": "stream",
     "text": [
      "\u001b[32m[I 2021-03-31 15:55:56,916]\u001b[0m Trial 63 finished with value: 0.8888164897451964 and parameters: {'bagging_fraction': 0.7277463723749618, 'bagging_freq': 6, 'min_child_samples': 53, 'num_leaves': 193, 'learning_rate': 0.05264511030523183}. Best is trial 0 with value: 0.8888164897451964.\u001b[0m\n"
     ]
    },
    {
     "name": "stdout",
     "output_type": "stream",
     "text": [
      "[LightGBM] [Warning] bagging_fraction is set=0.6775869220662643, subsample=1.0 will be ignored. Current value: bagging_fraction=0.6775869220662643\n",
      "[LightGBM] [Warning] bagging_freq is set=4, subsample_freq=0 will be ignored. Current value: bagging_freq=4\n"
     ]
    },
    {
     "name": "stderr",
     "output_type": "stream",
     "text": [
      "\u001b[32m[I 2021-03-31 15:55:59,843]\u001b[0m Trial 64 finished with value: 0.8888164897451964 and parameters: {'bagging_fraction': 0.6775869220662643, 'bagging_freq': 4, 'min_child_samples': 59, 'num_leaves': 162, 'learning_rate': 0.10367932681094398}. Best is trial 0 with value: 0.8888164897451964.\u001b[0m\n"
     ]
    },
    {
     "name": "stdout",
     "output_type": "stream",
     "text": [
      "[LightGBM] [Warning] bagging_fraction is set=0.7102421587644636, subsample=1.0 will be ignored. Current value: bagging_fraction=0.7102421587644636\n",
      "[LightGBM] [Warning] bagging_freq is set=5, subsample_freq=0 will be ignored. Current value: bagging_freq=5\n"
     ]
    },
    {
     "name": "stderr",
     "output_type": "stream",
     "text": [
      "\u001b[32m[I 2021-03-31 15:56:01,515]\u001b[0m Trial 65 finished with value: 0.8888164897451964 and parameters: {'bagging_fraction': 0.7102421587644636, 'bagging_freq': 5, 'min_child_samples': 55, 'num_leaves': 6, 'learning_rate': 0.09832397339521683}. Best is trial 0 with value: 0.8888164897451964.\u001b[0m\n"
     ]
    },
    {
     "name": "stdout",
     "output_type": "stream",
     "text": [
      "[LightGBM] [Warning] bagging_fraction is set=0.7774228281767714, subsample=1.0 will be ignored. Current value: bagging_fraction=0.7774228281767714\n",
      "[LightGBM] [Warning] bagging_freq is set=3, subsample_freq=0 will be ignored. Current value: bagging_freq=3\n"
     ]
    },
    {
     "name": "stderr",
     "output_type": "stream",
     "text": [
      "\u001b[32m[I 2021-03-31 15:56:04,429]\u001b[0m Trial 66 finished with value: 0.8888164897451964 and parameters: {'bagging_fraction': 0.7774228281767714, 'bagging_freq': 3, 'min_child_samples': 46, 'num_leaves': 121, 'learning_rate': 0.11203983497639995}. Best is trial 0 with value: 0.8888164897451964.\u001b[0m\n"
     ]
    },
    {
     "name": "stdout",
     "output_type": "stream",
     "text": [
      "[LightGBM] [Warning] bagging_fraction is set=0.8118650239358047, subsample=1.0 will be ignored. Current value: bagging_fraction=0.8118650239358047\n",
      "[LightGBM] [Warning] bagging_freq is set=4, subsample_freq=0 will be ignored. Current value: bagging_freq=4\n"
     ]
    },
    {
     "name": "stderr",
     "output_type": "stream",
     "text": [
      "\u001b[32m[I 2021-03-31 15:56:07,730]\u001b[0m Trial 67 finished with value: 0.8888164897451964 and parameters: {'bagging_fraction': 0.8118650239358047, 'bagging_freq': 4, 'min_child_samples': 68, 'num_leaves': 217, 'learning_rate': 0.1406232277861008}. Best is trial 0 with value: 0.8888164897451964.\u001b[0m\n"
     ]
    },
    {
     "name": "stdout",
     "output_type": "stream",
     "text": [
      "[LightGBM] [Warning] bagging_fraction is set=0.9017557463393401, subsample=1.0 will be ignored. Current value: bagging_fraction=0.9017557463393401\n",
      "[LightGBM] [Warning] bagging_freq is set=5, subsample_freq=0 will be ignored. Current value: bagging_freq=5\n"
     ]
    },
    {
     "name": "stderr",
     "output_type": "stream",
     "text": [
      "\u001b[32m[I 2021-03-31 15:56:10,055]\u001b[0m Trial 68 finished with value: 0.8888164897451964 and parameters: {'bagging_fraction': 0.9017557463393401, 'bagging_freq': 5, 'min_child_samples': 23, 'num_leaves': 46, 'learning_rate': 0.12390166929254517}. Best is trial 0 with value: 0.8888164897451964.\u001b[0m\n"
     ]
    },
    {
     "name": "stdout",
     "output_type": "stream",
     "text": [
      "[LightGBM] [Warning] bagging_fraction is set=0.6979649069504947, subsample=1.0 will be ignored. Current value: bagging_fraction=0.6979649069504947\n",
      "[LightGBM] [Warning] bagging_freq is set=5, subsample_freq=0 will be ignored. Current value: bagging_freq=5\n"
     ]
    },
    {
     "name": "stderr",
     "output_type": "stream",
     "text": [
      "\u001b[32m[I 2021-03-31 15:56:12,815]\u001b[0m Trial 69 finished with value: 0.8888164897451964 and parameters: {'bagging_fraction': 0.6979649069504947, 'bagging_freq': 5, 'min_child_samples': 79, 'num_leaves': 111, 'learning_rate': 0.07930778031934865}. Best is trial 0 with value: 0.8888164897451964.\u001b[0m\n"
     ]
    },
    {
     "name": "stdout",
     "output_type": "stream",
     "text": [
      "[LightGBM] [Warning] bagging_fraction is set=0.8417334804932108, subsample=1.0 will be ignored. Current value: bagging_fraction=0.8417334804932108\n",
      "[LightGBM] [Warning] bagging_freq is set=4, subsample_freq=0 will be ignored. Current value: bagging_freq=4\n"
     ]
    },
    {
     "name": "stderr",
     "output_type": "stream",
     "text": [
      "\u001b[32m[I 2021-03-31 15:56:15,528]\u001b[0m Trial 70 finished with value: 0.8888164897451964 and parameters: {'bagging_fraction': 0.8417334804932108, 'bagging_freq': 4, 'min_child_samples': 25, 'num_leaves': 105, 'learning_rate': 0.13573742587178933}. Best is trial 0 with value: 0.8888164897451964.\u001b[0m\n"
     ]
    },
    {
     "name": "stdout",
     "output_type": "stream",
     "text": [
      "[LightGBM] [Warning] bagging_fraction is set=0.4469078619879919, subsample=1.0 will be ignored. Current value: bagging_fraction=0.4469078619879919\n",
      "[LightGBM] [Warning] bagging_freq is set=1, subsample_freq=0 will be ignored. Current value: bagging_freq=1\n"
     ]
    },
    {
     "name": "stderr",
     "output_type": "stream",
     "text": [
      "\u001b[32m[I 2021-03-31 15:56:19,167]\u001b[0m Trial 71 finished with value: 0.8888164897451964 and parameters: {'bagging_fraction': 0.4469078619879919, 'bagging_freq': 1, 'min_child_samples': 6, 'num_leaves': 310, 'learning_rate': 0.14987033131635846}. Best is trial 0 with value: 0.8888164897451964.\u001b[0m\n"
     ]
    },
    {
     "name": "stdout",
     "output_type": "stream",
     "text": [
      "[LightGBM] [Warning] bagging_fraction is set=0.5090583697628508, subsample=1.0 will be ignored. Current value: bagging_fraction=0.5090583697628508\n",
      "[LightGBM] [Warning] bagging_freq is set=1, subsample_freq=0 will be ignored. Current value: bagging_freq=1\n"
     ]
    },
    {
     "name": "stderr",
     "output_type": "stream",
     "text": [
      "\u001b[32m[I 2021-03-31 15:56:21,091]\u001b[0m Trial 72 finished with value: 0.8888164897451964 and parameters: {'bagging_fraction': 0.5090583697628508, 'bagging_freq': 1, 'min_child_samples': 14, 'num_leaves': 30, 'learning_rate': 0.09101410592572717}. Best is trial 0 with value: 0.8888164897451964.\u001b[0m\n"
     ]
    },
    {
     "name": "stdout",
     "output_type": "stream",
     "text": [
      "[LightGBM] [Warning] bagging_fraction is set=0.41290611770350527, subsample=1.0 will be ignored. Current value: bagging_fraction=0.41290611770350527\n",
      "[LightGBM] [Warning] bagging_freq is set=4, subsample_freq=0 will be ignored. Current value: bagging_freq=4\n"
     ]
    },
    {
     "name": "stderr",
     "output_type": "stream",
     "text": [
      "\u001b[32m[I 2021-03-31 15:56:24,433]\u001b[0m Trial 73 finished with value: 0.8888164897451964 and parameters: {'bagging_fraction': 0.41290611770350527, 'bagging_freq': 4, 'min_child_samples': 19, 'num_leaves': 319, 'learning_rate': 0.09238710006789799}. Best is trial 0 with value: 0.8888164897451964.\u001b[0m\n"
     ]
    },
    {
     "name": "stdout",
     "output_type": "stream",
     "text": [
      "[LightGBM] [Warning] bagging_fraction is set=0.9787663525774508, subsample=1.0 will be ignored. Current value: bagging_fraction=0.9787663525774508\n",
      "[LightGBM] [Warning] bagging_freq is set=0, subsample_freq=0 will be ignored. Current value: bagging_freq=0\n"
     ]
    },
    {
     "name": "stderr",
     "output_type": "stream",
     "text": [
      "\u001b[32m[I 2021-03-31 15:56:28,239]\u001b[0m Trial 74 finished with value: 0.8888164897451964 and parameters: {'bagging_fraction': 0.9787663525774508, 'bagging_freq': 0, 'min_child_samples': 16, 'num_leaves': 336, 'learning_rate': 0.08713484484711574}. Best is trial 0 with value: 0.8888164897451964.\u001b[0m\n"
     ]
    },
    {
     "name": "stdout",
     "output_type": "stream",
     "text": [
      "[LightGBM] [Warning] bagging_fraction is set=0.41627040811656346, subsample=1.0 will be ignored. Current value: bagging_fraction=0.41627040811656346\n",
      "[LightGBM] [Warning] bagging_freq is set=0, subsample_freq=0 will be ignored. Current value: bagging_freq=0\n"
     ]
    },
    {
     "name": "stderr",
     "output_type": "stream",
     "text": [
      "\u001b[32m[I 2021-03-31 15:56:30,607]\u001b[0m Trial 75 finished with value: 0.8888164897451964 and parameters: {'bagging_fraction': 0.41627040811656346, 'bagging_freq': 0, 'min_child_samples': 13, 'num_leaves': 91, 'learning_rate': 0.08440889752920348}. Best is trial 0 with value: 0.8888164897451964.\u001b[0m\n"
     ]
    },
    {
     "name": "stdout",
     "output_type": "stream",
     "text": [
      "[LightGBM] [Warning] bagging_fraction is set=0.9242979520731748, subsample=1.0 will be ignored. Current value: bagging_fraction=0.9242979520731748\n",
      "[LightGBM] [Warning] bagging_freq is set=0, subsample_freq=0 will be ignored. Current value: bagging_freq=0\n"
     ]
    },
    {
     "name": "stderr",
     "output_type": "stream",
     "text": [
      "\u001b[32m[I 2021-03-31 15:56:33,077]\u001b[0m Trial 76 finished with value: 0.8888164897451964 and parameters: {'bagging_fraction': 0.9242979520731748, 'bagging_freq': 0, 'min_child_samples': 12, 'num_leaves': 89, 'learning_rate': 0.07847147909463534}. Best is trial 0 with value: 0.8888164897451964.\u001b[0m\n"
     ]
    },
    {
     "name": "stdout",
     "output_type": "stream",
     "text": [
      "[LightGBM] [Warning] bagging_fraction is set=0.9827411936618875, subsample=1.0 will be ignored. Current value: bagging_fraction=0.9827411936618875\n",
      "[LightGBM] [Warning] bagging_freq is set=0, subsample_freq=0 will be ignored. Current value: bagging_freq=0\n"
     ]
    },
    {
     "name": "stderr",
     "output_type": "stream",
     "text": [
      "\u001b[32m[I 2021-03-31 15:56:37,027]\u001b[0m Trial 77 finished with value: 0.8888164897451964 and parameters: {'bagging_fraction': 0.9827411936618875, 'bagging_freq': 0, 'min_child_samples': 19, 'num_leaves': 363, 'learning_rate': 0.08493922880056273}. Best is trial 0 with value: 0.8888164897451964.\u001b[0m\n"
     ]
    },
    {
     "name": "stdout",
     "output_type": "stream",
     "text": [
      "[LightGBM] [Warning] bagging_fraction is set=0.9567767840083375, subsample=1.0 will be ignored. Current value: bagging_fraction=0.9567767840083375\n",
      "[LightGBM] [Warning] bagging_freq is set=0, subsample_freq=0 will be ignored. Current value: bagging_freq=0\n"
     ]
    },
    {
     "name": "stderr",
     "output_type": "stream",
     "text": [
      "\u001b[32m[I 2021-03-31 15:56:41,474]\u001b[0m Trial 78 finished with value: 0.8888164897451964 and parameters: {'bagging_fraction': 0.9567767840083375, 'bagging_freq': 0, 'min_child_samples': 8, 'num_leaves': 442, 'learning_rate': 0.06501977266873529}. Best is trial 0 with value: 0.8888164897451964.\u001b[0m\n"
     ]
    },
    {
     "name": "stdout",
     "output_type": "stream",
     "text": [
      "[LightGBM] [Warning] bagging_fraction is set=0.9399504731437206, subsample=1.0 will be ignored. Current value: bagging_fraction=0.9399504731437206\n",
      "[LightGBM] [Warning] bagging_freq is set=0, subsample_freq=0 will be ignored. Current value: bagging_freq=0\n"
     ]
    },
    {
     "name": "stderr",
     "output_type": "stream",
     "text": [
      "\u001b[32m[I 2021-03-31 15:56:45,025]\u001b[0m Trial 79 finished with value: 0.8888164897451964 and parameters: {'bagging_fraction': 0.9399504731437206, 'bagging_freq': 0, 'min_child_samples': 9, 'num_leaves': 285, 'learning_rate': 0.05415732168182659}. Best is trial 0 with value: 0.8888164897451964.\u001b[0m\n"
     ]
    },
    {
     "name": "stdout",
     "output_type": "stream",
     "text": [
      "[LightGBM] [Warning] bagging_fraction is set=0.9582664509181125, subsample=1.0 will be ignored. Current value: bagging_fraction=0.9582664509181125\n",
      "[LightGBM] [Warning] bagging_freq is set=0, subsample_freq=0 will be ignored. Current value: bagging_freq=0\n"
     ]
    },
    {
     "name": "stderr",
     "output_type": "stream",
     "text": [
      "\u001b[32m[I 2021-03-31 15:56:49,450]\u001b[0m Trial 80 finished with value: 0.8888164897451964 and parameters: {'bagging_fraction': 0.9582664509181125, 'bagging_freq': 0, 'min_child_samples': 20, 'num_leaves': 417, 'learning_rate': 0.06435765296068285}. Best is trial 0 with value: 0.8888164897451964.\u001b[0m\n"
     ]
    },
    {
     "name": "stdout",
     "output_type": "stream",
     "text": [
      "[LightGBM] [Warning] bagging_fraction is set=0.9463783416243005, subsample=1.0 will be ignored. Current value: bagging_fraction=0.9463783416243005\n",
      "[LightGBM] [Warning] bagging_freq is set=0, subsample_freq=0 will be ignored. Current value: bagging_freq=0\n"
     ]
    },
    {
     "name": "stderr",
     "output_type": "stream",
     "text": [
      "\u001b[32m[I 2021-03-31 15:56:53,926]\u001b[0m Trial 81 finished with value: 0.8888164897451964 and parameters: {'bagging_fraction': 0.9463783416243005, 'bagging_freq': 0, 'min_child_samples': 39, 'num_leaves': 497, 'learning_rate': 0.059564831473273905}. Best is trial 0 with value: 0.8888164897451964.\u001b[0m\n"
     ]
    },
    {
     "name": "stdout",
     "output_type": "stream",
     "text": [
      "[LightGBM] [Warning] bagging_fraction is set=0.9194192308313364, subsample=1.0 will be ignored. Current value: bagging_fraction=0.9194192308313364\n",
      "[LightGBM] [Warning] bagging_freq is set=7, subsample_freq=0 will be ignored. Current value: bagging_freq=7\n"
     ]
    },
    {
     "name": "stderr",
     "output_type": "stream",
     "text": [
      "\u001b[32m[I 2021-03-31 15:56:57,109]\u001b[0m Trial 82 finished with value: 0.8888164897451964 and parameters: {'bagging_fraction': 0.9194192308313364, 'bagging_freq': 7, 'min_child_samples': 41, 'num_leaves': 141, 'learning_rate': 0.069986939031626}. Best is trial 0 with value: 0.8888164897451964.\u001b[0m\n"
     ]
    },
    {
     "name": "stdout",
     "output_type": "stream",
     "text": [
      "[LightGBM] [Warning] bagging_fraction is set=0.9690599784268031, subsample=1.0 will be ignored. Current value: bagging_fraction=0.9690599784268031\n",
      "[LightGBM] [Warning] bagging_freq is set=0, subsample_freq=0 will be ignored. Current value: bagging_freq=0\n"
     ]
    },
    {
     "name": "stderr",
     "output_type": "stream",
     "text": [
      "\u001b[32m[I 2021-03-31 15:57:00,341]\u001b[0m Trial 83 finished with value: 0.8888164897451964 and parameters: {'bagging_fraction': 0.9690599784268031, 'bagging_freq': 0, 'min_child_samples': 29, 'num_leaves': 232, 'learning_rate': 0.06776774442158097}. Best is trial 0 with value: 0.8888164897451964.\u001b[0m\n"
     ]
    },
    {
     "name": "stdout",
     "output_type": "stream",
     "text": [
      "[LightGBM] [Warning] bagging_fraction is set=0.8657956330406293, subsample=1.0 will be ignored. Current value: bagging_fraction=0.8657956330406293\n",
      "[LightGBM] [Warning] bagging_freq is set=0, subsample_freq=0 will be ignored. Current value: bagging_freq=0\n"
     ]
    },
    {
     "name": "stderr",
     "output_type": "stream",
     "text": [
      "\u001b[32m[I 2021-03-31 15:57:03,135]\u001b[0m Trial 84 finished with value: 0.8888164897451964 and parameters: {'bagging_fraction': 0.8657956330406293, 'bagging_freq': 0, 'min_child_samples': 37, 'num_leaves': 161, 'learning_rate': 0.07624828222876122}. Best is trial 0 with value: 0.8888164897451964.\u001b[0m\n"
     ]
    },
    {
     "name": "stdout",
     "output_type": "stream",
     "text": [
      "[LightGBM] [Warning] bagging_fraction is set=0.9117252728307322, subsample=1.0 will be ignored. Current value: bagging_fraction=0.9117252728307322\n",
      "[LightGBM] [Warning] bagging_freq is set=0, subsample_freq=0 will be ignored. Current value: bagging_freq=0\n"
     ]
    },
    {
     "name": "stderr",
     "output_type": "stream",
     "text": [
      "\u001b[32m[I 2021-03-31 15:57:06,333]\u001b[0m Trial 85 finished with value: 0.8888164897451964 and parameters: {'bagging_fraction': 0.9117252728307322, 'bagging_freq': 0, 'min_child_samples': 48, 'num_leaves': 203, 'learning_rate': 0.04615103708728638}. Best is trial 0 with value: 0.8888164897451964.\u001b[0m\n"
     ]
    },
    {
     "name": "stdout",
     "output_type": "stream",
     "text": [
      "[LightGBM] [Warning] bagging_fraction is set=0.8885529920787734, subsample=1.0 will be ignored. Current value: bagging_fraction=0.8885529920787734\n",
      "[LightGBM] [Warning] bagging_freq is set=3, subsample_freq=0 will be ignored. Current value: bagging_freq=3\n"
     ]
    },
    {
     "name": "stderr",
     "output_type": "stream",
     "text": [
      "\u001b[32m[I 2021-03-31 15:57:09,510]\u001b[0m Trial 86 finished with value: 0.8888164897451964 and parameters: {'bagging_fraction': 0.8885529920787734, 'bagging_freq': 3, 'min_child_samples': 76, 'num_leaves': 128, 'learning_rate': 0.09852823754971304}. Best is trial 0 with value: 0.8888164897451964.\u001b[0m\n"
     ]
    },
    {
     "name": "stdout",
     "output_type": "stream",
     "text": [
      "[LightGBM] [Warning] bagging_fraction is set=0.7660425028329688, subsample=1.0 will be ignored. Current value: bagging_fraction=0.7660425028329688\n",
      "[LightGBM] [Warning] bagging_freq is set=6, subsample_freq=0 will be ignored. Current value: bagging_freq=6\n"
     ]
    },
    {
     "name": "stderr",
     "output_type": "stream",
     "text": [
      "\u001b[32m[I 2021-03-31 15:57:12,747]\u001b[0m Trial 87 finished with value: 0.8888164897451964 and parameters: {'bagging_fraction': 0.7660425028329688, 'bagging_freq': 6, 'min_child_samples': 66, 'num_leaves': 177, 'learning_rate': 0.05615683899623317}. Best is trial 0 with value: 0.8888164897451964.\u001b[0m\n"
     ]
    },
    {
     "name": "stdout",
     "output_type": "stream",
     "text": [
      "[LightGBM] [Warning] bagging_fraction is set=0.7523152499122285, subsample=1.0 will be ignored. Current value: bagging_fraction=0.7523152499122285\n",
      "[LightGBM] [Warning] bagging_freq is set=6, subsample_freq=0 will be ignored. Current value: bagging_freq=6\n"
     ]
    },
    {
     "name": "stderr",
     "output_type": "stream",
     "text": [
      "\u001b[32m[I 2021-03-31 15:57:16,110]\u001b[0m Trial 88 finished with value: 0.8888164897451964 and parameters: {'bagging_fraction': 0.7523152499122285, 'bagging_freq': 6, 'min_child_samples': 63, 'num_leaves': 191, 'learning_rate': 0.052370108323031066}. Best is trial 0 with value: 0.8888164897451964.\u001b[0m\n"
     ]
    },
    {
     "name": "stdout",
     "output_type": "stream",
     "text": [
      "[LightGBM] [Warning] bagging_fraction is set=0.71697612689394, subsample=1.0 will be ignored. Current value: bagging_fraction=0.71697612689394\n",
      "[LightGBM] [Warning] bagging_freq is set=6, subsample_freq=0 will be ignored. Current value: bagging_freq=6\n"
     ]
    },
    {
     "name": "stderr",
     "output_type": "stream",
     "text": [
      "\u001b[32m[I 2021-03-31 15:57:19,539]\u001b[0m Trial 89 finished with value: 0.8888164897451964 and parameters: {'bagging_fraction': 0.71697612689394, 'bagging_freq': 6, 'min_child_samples': 71, 'num_leaves': 157, 'learning_rate': 0.046188354951671194}. Best is trial 0 with value: 0.8888164897451964.\u001b[0m\n"
     ]
    },
    {
     "name": "stdout",
     "output_type": "stream",
     "text": [
      "[LightGBM] [Warning] bagging_fraction is set=0.7376224653291007, subsample=1.0 will be ignored. Current value: bagging_fraction=0.7376224653291007\n",
      "[LightGBM] [Warning] bagging_freq is set=6, subsample_freq=0 will be ignored. Current value: bagging_freq=6\n"
     ]
    },
    {
     "name": "stderr",
     "output_type": "stream",
     "text": [
      "\u001b[32m[I 2021-03-31 15:57:22,811]\u001b[0m Trial 90 finished with value: 0.8888164897451964 and parameters: {'bagging_fraction': 0.7376224653291007, 'bagging_freq': 6, 'min_child_samples': 59, 'num_leaves': 199, 'learning_rate': 0.10509204662919336}. Best is trial 0 with value: 0.8888164897451964.\u001b[0m\n"
     ]
    },
    {
     "name": "stdout",
     "output_type": "stream",
     "text": [
      "[LightGBM] [Warning] bagging_fraction is set=0.6708070272619127, subsample=1.0 will be ignored. Current value: bagging_fraction=0.6708070272619127\n",
      "[LightGBM] [Warning] bagging_freq is set=7, subsample_freq=0 will be ignored. Current value: bagging_freq=7\n"
     ]
    },
    {
     "name": "stderr",
     "output_type": "stream",
     "text": [
      "\u001b[32m[I 2021-03-31 15:57:25,730]\u001b[0m Trial 91 finished with value: 0.8888164897451964 and parameters: {'bagging_fraction': 0.6708070272619127, 'bagging_freq': 7, 'min_child_samples': 52, 'num_leaves': 170, 'learning_rate': 0.09724330012649943}. Best is trial 0 with value: 0.8888164897451964.\u001b[0m\n"
     ]
    },
    {
     "name": "stdout",
     "output_type": "stream",
     "text": [
      "[LightGBM] [Warning] bagging_fraction is set=0.7829088929366369, subsample=1.0 will be ignored. Current value: bagging_fraction=0.7829088929366369\n",
      "[LightGBM] [Warning] bagging_freq is set=3, subsample_freq=0 will be ignored. Current value: bagging_freq=3\n"
     ]
    },
    {
     "name": "stderr",
     "output_type": "stream",
     "text": [
      "\u001b[32m[I 2021-03-31 15:57:28,693]\u001b[0m Trial 92 finished with value: 0.8888164897451964 and parameters: {'bagging_fraction': 0.7829088929366369, 'bagging_freq': 3, 'min_child_samples': 56, 'num_leaves': 119, 'learning_rate': 0.11363503339419348}. Best is trial 0 with value: 0.8888164897451964.\u001b[0m\n"
     ]
    },
    {
     "name": "stdout",
     "output_type": "stream",
     "text": [
      "[LightGBM] [Warning] bagging_fraction is set=0.7185703202785795, subsample=1.0 will be ignored. Current value: bagging_fraction=0.7185703202785795\n",
      "[LightGBM] [Warning] bagging_freq is set=3, subsample_freq=0 will be ignored. Current value: bagging_freq=3\n"
     ]
    },
    {
     "name": "stderr",
     "output_type": "stream",
     "text": [
      "\u001b[32m[I 2021-03-31 15:57:31,703]\u001b[0m Trial 93 finished with value: 0.8888164897451964 and parameters: {'bagging_fraction': 0.7185703202785795, 'bagging_freq': 3, 'min_child_samples': 55, 'num_leaves': 149, 'learning_rate': 0.11000285962637475}. Best is trial 0 with value: 0.8888164897451964.\u001b[0m\n"
     ]
    },
    {
     "name": "stdout",
     "output_type": "stream",
     "text": [
      "[LightGBM] [Warning] bagging_fraction is set=0.81149872219741, subsample=1.0 will be ignored. Current value: bagging_fraction=0.81149872219741\n",
      "[LightGBM] [Warning] bagging_freq is set=4, subsample_freq=0 will be ignored. Current value: bagging_freq=4\n"
     ]
    },
    {
     "name": "stderr",
     "output_type": "stream",
     "text": [
      "\u001b[32m[I 2021-03-31 15:57:35,136]\u001b[0m Trial 94 finished with value: 0.8888164897451964 and parameters: {'bagging_fraction': 0.81149872219741, 'bagging_freq': 4, 'min_child_samples': 70, 'num_leaves': 215, 'learning_rate': 0.10535936730502843}. Best is trial 0 with value: 0.8888164897451964.\u001b[0m\n"
     ]
    },
    {
     "name": "stdout",
     "output_type": "stream",
     "text": [
      "[LightGBM] [Warning] bagging_fraction is set=0.767983242646949, subsample=1.0 will be ignored. Current value: bagging_fraction=0.767983242646949\n",
      "[LightGBM] [Warning] bagging_freq is set=5, subsample_freq=0 will be ignored. Current value: bagging_freq=5\n"
     ]
    },
    {
     "name": "stderr",
     "output_type": "stream",
     "text": [
      "\u001b[32m[I 2021-03-31 15:57:38,255]\u001b[0m Trial 95 finished with value: 0.8888164897451964 and parameters: {'bagging_fraction': 0.767983242646949, 'bagging_freq': 5, 'min_child_samples': 62, 'num_leaves': 185, 'learning_rate': 0.12485034297810244}. Best is trial 0 with value: 0.8888164897451964.\u001b[0m\n"
     ]
    },
    {
     "name": "stdout",
     "output_type": "stream",
     "text": [
      "[LightGBM] [Warning] bagging_fraction is set=0.6958670031182893, subsample=1.0 will be ignored. Current value: bagging_fraction=0.6958670031182893\n",
      "[LightGBM] [Warning] bagging_freq is set=5, subsample_freq=0 will be ignored. Current value: bagging_freq=5\n"
     ]
    },
    {
     "name": "stderr",
     "output_type": "stream",
     "text": [
      "\u001b[32m[I 2021-03-31 15:57:40,015]\u001b[0m Trial 96 finished with value: 0.8888164897451964 and parameters: {'bagging_fraction': 0.6958670031182893, 'bagging_freq': 5, 'min_child_samples': 84, 'num_leaves': 9, 'learning_rate': 0.10023049677636345}. Best is trial 0 with value: 0.8888164897451964.\u001b[0m\n"
     ]
    },
    {
     "name": "stdout",
     "output_type": "stream",
     "text": [
      "[LightGBM] [Warning] bagging_fraction is set=0.6319013834010356, subsample=1.0 will be ignored. Current value: bagging_fraction=0.6319013834010356\n",
      "[LightGBM] [Warning] bagging_freq is set=5, subsample_freq=0 will be ignored. Current value: bagging_freq=5\n"
     ]
    },
    {
     "name": "stderr",
     "output_type": "stream",
     "text": [
      "\u001b[32m[I 2021-03-31 15:57:42,650]\u001b[0m Trial 97 finished with value: 0.8888164897451964 and parameters: {'bagging_fraction': 0.6319013834010356, 'bagging_freq': 5, 'min_child_samples': 76, 'num_leaves': 129, 'learning_rate': 0.11692616310701527}. Best is trial 0 with value: 0.8888164897451964.\u001b[0m\n"
     ]
    },
    {
     "name": "stdout",
     "output_type": "stream",
     "text": [
      "[LightGBM] [Warning] bagging_fraction is set=0.6832030543668403, subsample=1.0 will be ignored. Current value: bagging_fraction=0.6832030543668403\n",
      "[LightGBM] [Warning] bagging_freq is set=5, subsample_freq=0 will be ignored. Current value: bagging_freq=5\n"
     ]
    },
    {
     "name": "stderr",
     "output_type": "stream",
     "text": [
      "\u001b[32m[I 2021-03-31 15:57:45,195]\u001b[0m Trial 98 finished with value: 0.8888164897451964 and parameters: {'bagging_fraction': 0.6832030543668403, 'bagging_freq': 5, 'min_child_samples': 60, 'num_leaves': 101, 'learning_rate': 0.1334806165363873}. Best is trial 0 with value: 0.8888164897451964.\u001b[0m\n"
     ]
    },
    {
     "name": "stdout",
     "output_type": "stream",
     "text": [
      "[LightGBM] [Warning] bagging_fraction is set=0.7101807222946523, subsample=1.0 will be ignored. Current value: bagging_fraction=0.7101807222946523\n",
      "[LightGBM] [Warning] bagging_freq is set=4, subsample_freq=0 will be ignored. Current value: bagging_freq=4\n"
     ]
    },
    {
     "name": "stderr",
     "output_type": "stream",
     "text": [
      "\u001b[32m[I 2021-03-31 15:57:47,426]\u001b[0m Trial 99 finished with value: 0.8888164897451964 and parameters: {'bagging_fraction': 0.7101807222946523, 'bagging_freq': 4, 'min_child_samples': 95, 'num_leaves': 45, 'learning_rate': 0.14517101430259513}. Best is trial 0 with value: 0.8888164897451964.\u001b[0m\n"
     ]
    }
   ],
   "source": [
    "study = optuna.create_study(direction=\"maximize\", pruner=optuna.pruners.MedianPruner())\n",
    "study.optimize(objective, n_trials=100)"
   ]
  },
  {
   "cell_type": "code",
   "execution_count": 58,
   "metadata": {},
   "outputs": [],
   "source": [
    "params = study.best_params\n"
   ]
  },
  {
   "cell_type": "code",
   "execution_count": 59,
   "metadata": {},
   "outputs": [
    {
     "name": "stdout",
     "output_type": "stream",
     "text": [
      "[LightGBM] [Warning] bagging_fraction is set=0.9082907313005321, subsample=1.0 will be ignored. Current value: bagging_fraction=0.9082907313005321\n",
      "[LightGBM] [Warning] bagging_freq is set=5, subsample_freq=0 will be ignored. Current value: bagging_freq=5\n"
     ]
    }
   ],
   "source": [
    "lgb_clf_1 = lgb.LGBMClassifier(**params, n_jobs=-1)\n",
    "lgb_clf_1.fit(label_train.iloc[:, :-1], label_train['target'])\n",
    "submission_3 = submission.copy()\n",
    "submission_3['target'] = lgb_clf_1.predict_proba(label_test)[:, 1]\n",
    "submission_3.to_csv('lightgbm_1.csv')"
   ]
  },
  {
   "cell_type": "code",
   "execution_count": null,
   "metadata": {},
   "outputs": [],
   "source": []
  }
 ],
 "metadata": {
  "kernelspec": {
   "display_name": "Python 3",
   "language": "python",
   "name": "python3"
  },
  "language_info": {
   "codemirror_mode": {
    "name": "ipython",
    "version": 3
   },
   "file_extension": ".py",
   "mimetype": "text/x-python",
   "name": "python",
   "nbconvert_exporter": "python",
   "pygments_lexer": "ipython3",
   "version": "3.8.6"
  }
 },
 "nbformat": 4,
 "nbformat_minor": 4
}
